{
 "cells": [
  {
   "cell_type": "code",
   "execution_count": 22,
   "id": "60833446",
   "metadata": {},
   "outputs": [
    {
     "name": "stderr",
     "output_type": "stream",
     "text": [
      "/Users/grahamneal/opt/anaconda3/envs/PythonData/lib/python3.7/site-packages/ipykernel_launcher.py:18: FutureWarning: The default value of regex will change from True to False in a future version.\n"
     ]
    },
    {
     "data": {
      "text/html": [
       "<div>\n",
       "<style scoped>\n",
       "    .dataframe tbody tr th:only-of-type {\n",
       "        vertical-align: middle;\n",
       "    }\n",
       "\n",
       "    .dataframe tbody tr th {\n",
       "        vertical-align: top;\n",
       "    }\n",
       "\n",
       "    .dataframe thead th {\n",
       "        text-align: right;\n",
       "    }\n",
       "</style>\n",
       "<table border=\"1\" class=\"dataframe\">\n",
       "  <thead>\n",
       "    <tr style=\"text-align: right;\">\n",
       "      <th></th>\n",
       "      <th>Student ID</th>\n",
       "      <th>student_name</th>\n",
       "      <th>gender</th>\n",
       "      <th>grade</th>\n",
       "      <th>school_name</th>\n",
       "      <th>reading_score</th>\n",
       "      <th>math_score</th>\n",
       "    </tr>\n",
       "  </thead>\n",
       "  <tbody>\n",
       "    <tr>\n",
       "      <th>0</th>\n",
       "      <td>0</td>\n",
       "      <td>Paul Bradley</td>\n",
       "      <td>M</td>\n",
       "      <td>9th</td>\n",
       "      <td>Huang High School</td>\n",
       "      <td>66</td>\n",
       "      <td>79</td>\n",
       "    </tr>\n",
       "    <tr>\n",
       "      <th>1</th>\n",
       "      <td>1</td>\n",
       "      <td>Victor Smith</td>\n",
       "      <td>M</td>\n",
       "      <td>12th</td>\n",
       "      <td>Huang High School</td>\n",
       "      <td>94</td>\n",
       "      <td>61</td>\n",
       "    </tr>\n",
       "    <tr>\n",
       "      <th>2</th>\n",
       "      <td>2</td>\n",
       "      <td>Kevin Rodriguez</td>\n",
       "      <td>M</td>\n",
       "      <td>12th</td>\n",
       "      <td>Huang High School</td>\n",
       "      <td>90</td>\n",
       "      <td>60</td>\n",
       "    </tr>\n",
       "    <tr>\n",
       "      <th>3</th>\n",
       "      <td>3</td>\n",
       "      <td>Richard Scott</td>\n",
       "      <td>M</td>\n",
       "      <td>12th</td>\n",
       "      <td>Huang High School</td>\n",
       "      <td>67</td>\n",
       "      <td>58</td>\n",
       "    </tr>\n",
       "    <tr>\n",
       "      <th>4</th>\n",
       "      <td>4</td>\n",
       "      <td>Bonnie Ray</td>\n",
       "      <td>F</td>\n",
       "      <td>9th</td>\n",
       "      <td>Huang High School</td>\n",
       "      <td>97</td>\n",
       "      <td>84</td>\n",
       "    </tr>\n",
       "    <tr>\n",
       "      <th>5</th>\n",
       "      <td>5</td>\n",
       "      <td>Bryan Miranda</td>\n",
       "      <td>M</td>\n",
       "      <td>9th</td>\n",
       "      <td>Huang High School</td>\n",
       "      <td>94</td>\n",
       "      <td>94</td>\n",
       "    </tr>\n",
       "    <tr>\n",
       "      <th>6</th>\n",
       "      <td>6</td>\n",
       "      <td>Sheena Carter</td>\n",
       "      <td>F</td>\n",
       "      <td>11th</td>\n",
       "      <td>Huang High School</td>\n",
       "      <td>82</td>\n",
       "      <td>80</td>\n",
       "    </tr>\n",
       "    <tr>\n",
       "      <th>7</th>\n",
       "      <td>7</td>\n",
       "      <td>Nicole Baker</td>\n",
       "      <td>F</td>\n",
       "      <td>12th</td>\n",
       "      <td>Huang High School</td>\n",
       "      <td>96</td>\n",
       "      <td>69</td>\n",
       "    </tr>\n",
       "    <tr>\n",
       "      <th>8</th>\n",
       "      <td>8</td>\n",
       "      <td>Michael Roth</td>\n",
       "      <td>M</td>\n",
       "      <td>10th</td>\n",
       "      <td>Huang High School</td>\n",
       "      <td>95</td>\n",
       "      <td>87</td>\n",
       "    </tr>\n",
       "    <tr>\n",
       "      <th>9</th>\n",
       "      <td>9</td>\n",
       "      <td>Matthew Greene</td>\n",
       "      <td>M</td>\n",
       "      <td>10th</td>\n",
       "      <td>Huang High School</td>\n",
       "      <td>96</td>\n",
       "      <td>84</td>\n",
       "    </tr>\n",
       "  </tbody>\n",
       "</table>\n",
       "</div>"
      ],
      "text/plain": [
       "   Student ID     student_name gender grade        school_name  reading_score  \\\n",
       "0           0     Paul Bradley      M   9th  Huang High School             66   \n",
       "1           1     Victor Smith      M  12th  Huang High School             94   \n",
       "2           2  Kevin Rodriguez      M  12th  Huang High School             90   \n",
       "3           3    Richard Scott      M  12th  Huang High School             67   \n",
       "4           4       Bonnie Ray      F   9th  Huang High School             97   \n",
       "5           5    Bryan Miranda      M   9th  Huang High School             94   \n",
       "6           6    Sheena Carter      F  11th  Huang High School             82   \n",
       "7           7     Nicole Baker      F  12th  Huang High School             96   \n",
       "8           8     Michael Roth      M  10th  Huang High School             95   \n",
       "9           9   Matthew Greene      M  10th  Huang High School             96   \n",
       "\n",
       "   math_score  \n",
       "0          79  \n",
       "1          61  \n",
       "2          60  \n",
       "3          58  \n",
       "4          84  \n",
       "5          94  \n",
       "6          80  \n",
       "7          69  \n",
       "8          87  \n",
       "9          84  "
      ]
     },
     "execution_count": 22,
     "metadata": {},
     "output_type": "execute_result"
    }
   ],
   "source": [
    "# Dependencies and Setup\n",
    "import pandas as pd\n",
    "\n",
    "# File to Load (Remember to change the path if needed.)\n",
    "school_data_to_load = \"Resources/schools_complete.csv\"\n",
    "student_data_to_load = \"Resources/students_complete.csv\"\n",
    "\n",
    "# Read the School Data and Student Data and store into a Pandas DataFrame\n",
    "school_data_df = pd.read_csv(school_data_to_load)\n",
    "student_data_df = pd.read_csv(student_data_to_load)\n",
    "\n",
    "# Cleaning Student Names and Replacing Substrings in a Python String\n",
    "# Add each prefix and suffix to remove to a list.\n",
    "prefixes_suffixes = [\"Dr. \", \"Mr. \",\"Ms. \", \"Mrs. \", \"Miss \", \" MD\", \" DDS\", \" DVM\", \" PhD\"]\n",
    "\n",
    "# Iterate through the words in the \"prefixes_suffixes\" list and replace them with an empty space, \"\".\n",
    "for word in prefixes_suffixes:\n",
    "    student_data_df[\"student_name\"] = student_data_df[\"student_name\"].str.replace(word,\"\")\n",
    "\n",
    "# Check names.\n",
    "student_data_df.head(10)"
   ]
  },
  {
   "cell_type": "markdown",
   "id": "a8273be0",
   "metadata": {},
   "source": [
    "## Deliverable 1: Replace the reading and math scores.\n",
    "\n",
    "### Replace the 9th grade reading and math scores at Thomas High School with NaN."
   ]
  },
  {
   "cell_type": "code",
   "execution_count": 23,
   "id": "c7205b0f",
   "metadata": {},
   "outputs": [],
   "source": [
    "# Install numpy using conda install numpy or pip install numpy. \n",
    "# Step 1. Import numpy as np.\n",
    "import numpy as np"
   ]
  },
  {
   "cell_type": "code",
   "execution_count": 24,
   "id": "a40bec7c",
   "metadata": {},
   "outputs": [],
   "source": [
    "# Step 2. Use the loc method on the student_data_df to select all the reading scores from the 9th grade at Thomas High School and replace them with NaN.\n",
    "student_data_df.loc[(student_data_df[\"school_name\"]== \"Thomas High School\") & \n",
    "                    (student_data_df[\"grade\"] == \"9th\"), 'reading_score'] = np.nan\n",
    "student_data_df.loc[(student_data_df[\"school_name\"] == \"Thomas High School\") & (student_data_df[\"grade\"] == \"9th\")]\n",
    "\n",
    "#Created new dataframe for just Thomas High School\n",
    "ths_school_complete_df = student_data_df.loc[(student_data_df[\"school_name\"] == \"Thomas High School\") & (student_data_df[\"grade\"] != \"9th\")]"
   ]
  },
  {
   "cell_type": "code",
   "execution_count": 25,
   "id": "5a362c3d",
   "metadata": {
    "scrolled": true
   },
   "outputs": [
    {
     "data": {
      "text/html": [
       "<div>\n",
       "<style scoped>\n",
       "    .dataframe tbody tr th:only-of-type {\n",
       "        vertical-align: middle;\n",
       "    }\n",
       "\n",
       "    .dataframe tbody tr th {\n",
       "        vertical-align: top;\n",
       "    }\n",
       "\n",
       "    .dataframe thead th {\n",
       "        text-align: right;\n",
       "    }\n",
       "</style>\n",
       "<table border=\"1\" class=\"dataframe\">\n",
       "  <thead>\n",
       "    <tr style=\"text-align: right;\">\n",
       "      <th></th>\n",
       "      <th>Student ID</th>\n",
       "      <th>student_name</th>\n",
       "      <th>gender</th>\n",
       "      <th>grade</th>\n",
       "      <th>school_name</th>\n",
       "      <th>reading_score</th>\n",
       "      <th>math_score</th>\n",
       "    </tr>\n",
       "  </thead>\n",
       "  <tbody>\n",
       "    <tr>\n",
       "      <th>37537</th>\n",
       "      <td>37537</td>\n",
       "      <td>Erik Snyder</td>\n",
       "      <td>M</td>\n",
       "      <td>9th</td>\n",
       "      <td>Thomas High School</td>\n",
       "      <td>NaN</td>\n",
       "      <td>NaN</td>\n",
       "    </tr>\n",
       "    <tr>\n",
       "      <th>37538</th>\n",
       "      <td>37538</td>\n",
       "      <td>Tanya Martinez</td>\n",
       "      <td>F</td>\n",
       "      <td>9th</td>\n",
       "      <td>Thomas High School</td>\n",
       "      <td>NaN</td>\n",
       "      <td>NaN</td>\n",
       "    </tr>\n",
       "    <tr>\n",
       "      <th>37539</th>\n",
       "      <td>37539</td>\n",
       "      <td>Noah Erickson</td>\n",
       "      <td>M</td>\n",
       "      <td>9th</td>\n",
       "      <td>Thomas High School</td>\n",
       "      <td>NaN</td>\n",
       "      <td>NaN</td>\n",
       "    </tr>\n",
       "    <tr>\n",
       "      <th>37540</th>\n",
       "      <td>37540</td>\n",
       "      <td>Austin Meyer</td>\n",
       "      <td>M</td>\n",
       "      <td>9th</td>\n",
       "      <td>Thomas High School</td>\n",
       "      <td>NaN</td>\n",
       "      <td>NaN</td>\n",
       "    </tr>\n",
       "    <tr>\n",
       "      <th>37543</th>\n",
       "      <td>37543</td>\n",
       "      <td>Madison Hampton</td>\n",
       "      <td>F</td>\n",
       "      <td>9th</td>\n",
       "      <td>Thomas High School</td>\n",
       "      <td>NaN</td>\n",
       "      <td>NaN</td>\n",
       "    </tr>\n",
       "    <tr>\n",
       "      <th>...</th>\n",
       "      <td>...</td>\n",
       "      <td>...</td>\n",
       "      <td>...</td>\n",
       "      <td>...</td>\n",
       "      <td>...</td>\n",
       "      <td>...</td>\n",
       "      <td>...</td>\n",
       "    </tr>\n",
       "    <tr>\n",
       "      <th>39152</th>\n",
       "      <td>39152</td>\n",
       "      <td>Lori Moore</td>\n",
       "      <td>F</td>\n",
       "      <td>9th</td>\n",
       "      <td>Thomas High School</td>\n",
       "      <td>NaN</td>\n",
       "      <td>NaN</td>\n",
       "    </tr>\n",
       "    <tr>\n",
       "      <th>39153</th>\n",
       "      <td>39153</td>\n",
       "      <td>William Hubbard</td>\n",
       "      <td>M</td>\n",
       "      <td>9th</td>\n",
       "      <td>Thomas High School</td>\n",
       "      <td>NaN</td>\n",
       "      <td>NaN</td>\n",
       "    </tr>\n",
       "    <tr>\n",
       "      <th>39157</th>\n",
       "      <td>39157</td>\n",
       "      <td>Kristen Gonzalez</td>\n",
       "      <td>F</td>\n",
       "      <td>9th</td>\n",
       "      <td>Thomas High School</td>\n",
       "      <td>NaN</td>\n",
       "      <td>NaN</td>\n",
       "    </tr>\n",
       "    <tr>\n",
       "      <th>39164</th>\n",
       "      <td>39164</td>\n",
       "      <td>Joseph Anthony</td>\n",
       "      <td>M</td>\n",
       "      <td>9th</td>\n",
       "      <td>Thomas High School</td>\n",
       "      <td>NaN</td>\n",
       "      <td>NaN</td>\n",
       "    </tr>\n",
       "    <tr>\n",
       "      <th>39167</th>\n",
       "      <td>39167</td>\n",
       "      <td>Rebecca Tanner</td>\n",
       "      <td>F</td>\n",
       "      <td>9th</td>\n",
       "      <td>Thomas High School</td>\n",
       "      <td>NaN</td>\n",
       "      <td>NaN</td>\n",
       "    </tr>\n",
       "  </tbody>\n",
       "</table>\n",
       "<p>461 rows × 7 columns</p>\n",
       "</div>"
      ],
      "text/plain": [
       "       Student ID      student_name gender grade         school_name  \\\n",
       "37537       37537       Erik Snyder      M   9th  Thomas High School   \n",
       "37538       37538    Tanya Martinez      F   9th  Thomas High School   \n",
       "37539       37539     Noah Erickson      M   9th  Thomas High School   \n",
       "37540       37540      Austin Meyer      M   9th  Thomas High School   \n",
       "37543       37543   Madison Hampton      F   9th  Thomas High School   \n",
       "...           ...               ...    ...   ...                 ...   \n",
       "39152       39152        Lori Moore      F   9th  Thomas High School   \n",
       "39153       39153   William Hubbard      M   9th  Thomas High School   \n",
       "39157       39157  Kristen Gonzalez      F   9th  Thomas High School   \n",
       "39164       39164    Joseph Anthony      M   9th  Thomas High School   \n",
       "39167       39167    Rebecca Tanner      F   9th  Thomas High School   \n",
       "\n",
       "       reading_score  math_score  \n",
       "37537            NaN         NaN  \n",
       "37538            NaN         NaN  \n",
       "37539            NaN         NaN  \n",
       "37540            NaN         NaN  \n",
       "37543            NaN         NaN  \n",
       "...              ...         ...  \n",
       "39152            NaN         NaN  \n",
       "39153            NaN         NaN  \n",
       "39157            NaN         NaN  \n",
       "39164            NaN         NaN  \n",
       "39167            NaN         NaN  \n",
       "\n",
       "[461 rows x 7 columns]"
      ]
     },
     "execution_count": 25,
     "metadata": {},
     "output_type": "execute_result"
    }
   ],
   "source": [
    "#  Step 3. Refactor the code in Step 2 to replace the math scores with NaN.\n",
    "student_data_df.loc[(student_data_df[\"school_name\"] == \"Thomas High School\") &\n",
    "                   (student_data_df[\"grade\"] == \"9th\"), 'math_score'] = np.nan\n",
    "student_data_df.loc[(student_data_df[\"school_name\"] == \"Thomas High School\") & (student_data_df[\"grade\"] == \"9th\")]"
   ]
  },
  {
   "cell_type": "code",
   "execution_count": 26,
   "id": "92bed9eb",
   "metadata": {},
   "outputs": [
    {
     "data": {
      "text/html": [
       "<div>\n",
       "<style scoped>\n",
       "    .dataframe tbody tr th:only-of-type {\n",
       "        vertical-align: middle;\n",
       "    }\n",
       "\n",
       "    .dataframe tbody tr th {\n",
       "        vertical-align: top;\n",
       "    }\n",
       "\n",
       "    .dataframe thead th {\n",
       "        text-align: right;\n",
       "    }\n",
       "</style>\n",
       "<table border=\"1\" class=\"dataframe\">\n",
       "  <thead>\n",
       "    <tr style=\"text-align: right;\">\n",
       "      <th></th>\n",
       "      <th>Student ID</th>\n",
       "      <th>student_name</th>\n",
       "      <th>gender</th>\n",
       "      <th>grade</th>\n",
       "      <th>school_name</th>\n",
       "      <th>reading_score</th>\n",
       "      <th>math_score</th>\n",
       "    </tr>\n",
       "  </thead>\n",
       "  <tbody>\n",
       "    <tr>\n",
       "      <th>0</th>\n",
       "      <td>False</td>\n",
       "      <td>False</td>\n",
       "      <td>False</td>\n",
       "      <td>False</td>\n",
       "      <td>False</td>\n",
       "      <td>False</td>\n",
       "      <td>False</td>\n",
       "    </tr>\n",
       "    <tr>\n",
       "      <th>1</th>\n",
       "      <td>False</td>\n",
       "      <td>False</td>\n",
       "      <td>False</td>\n",
       "      <td>False</td>\n",
       "      <td>False</td>\n",
       "      <td>False</td>\n",
       "      <td>False</td>\n",
       "    </tr>\n",
       "    <tr>\n",
       "      <th>2</th>\n",
       "      <td>False</td>\n",
       "      <td>False</td>\n",
       "      <td>False</td>\n",
       "      <td>False</td>\n",
       "      <td>False</td>\n",
       "      <td>False</td>\n",
       "      <td>False</td>\n",
       "    </tr>\n",
       "    <tr>\n",
       "      <th>3</th>\n",
       "      <td>False</td>\n",
       "      <td>False</td>\n",
       "      <td>False</td>\n",
       "      <td>False</td>\n",
       "      <td>False</td>\n",
       "      <td>False</td>\n",
       "      <td>False</td>\n",
       "    </tr>\n",
       "    <tr>\n",
       "      <th>4</th>\n",
       "      <td>False</td>\n",
       "      <td>False</td>\n",
       "      <td>False</td>\n",
       "      <td>False</td>\n",
       "      <td>False</td>\n",
       "      <td>False</td>\n",
       "      <td>False</td>\n",
       "    </tr>\n",
       "    <tr>\n",
       "      <th>...</th>\n",
       "      <td>...</td>\n",
       "      <td>...</td>\n",
       "      <td>...</td>\n",
       "      <td>...</td>\n",
       "      <td>...</td>\n",
       "      <td>...</td>\n",
       "      <td>...</td>\n",
       "    </tr>\n",
       "    <tr>\n",
       "      <th>39165</th>\n",
       "      <td>False</td>\n",
       "      <td>False</td>\n",
       "      <td>False</td>\n",
       "      <td>False</td>\n",
       "      <td>False</td>\n",
       "      <td>False</td>\n",
       "      <td>False</td>\n",
       "    </tr>\n",
       "    <tr>\n",
       "      <th>39166</th>\n",
       "      <td>False</td>\n",
       "      <td>False</td>\n",
       "      <td>False</td>\n",
       "      <td>False</td>\n",
       "      <td>False</td>\n",
       "      <td>False</td>\n",
       "      <td>False</td>\n",
       "    </tr>\n",
       "    <tr>\n",
       "      <th>39167</th>\n",
       "      <td>False</td>\n",
       "      <td>False</td>\n",
       "      <td>False</td>\n",
       "      <td>False</td>\n",
       "      <td>False</td>\n",
       "      <td>True</td>\n",
       "      <td>True</td>\n",
       "    </tr>\n",
       "    <tr>\n",
       "      <th>39168</th>\n",
       "      <td>False</td>\n",
       "      <td>False</td>\n",
       "      <td>False</td>\n",
       "      <td>False</td>\n",
       "      <td>False</td>\n",
       "      <td>False</td>\n",
       "      <td>False</td>\n",
       "    </tr>\n",
       "    <tr>\n",
       "      <th>39169</th>\n",
       "      <td>False</td>\n",
       "      <td>False</td>\n",
       "      <td>False</td>\n",
       "      <td>False</td>\n",
       "      <td>False</td>\n",
       "      <td>False</td>\n",
       "      <td>False</td>\n",
       "    </tr>\n",
       "  </tbody>\n",
       "</table>\n",
       "<p>39170 rows × 7 columns</p>\n",
       "</div>"
      ],
      "text/plain": [
       "       Student ID  student_name  gender  grade  school_name  reading_score  \\\n",
       "0           False         False   False  False        False          False   \n",
       "1           False         False   False  False        False          False   \n",
       "2           False         False   False  False        False          False   \n",
       "3           False         False   False  False        False          False   \n",
       "4           False         False   False  False        False          False   \n",
       "...           ...           ...     ...    ...          ...            ...   \n",
       "39165       False         False   False  False        False          False   \n",
       "39166       False         False   False  False        False          False   \n",
       "39167       False         False   False  False        False           True   \n",
       "39168       False         False   False  False        False          False   \n",
       "39169       False         False   False  False        False          False   \n",
       "\n",
       "       math_score  \n",
       "0           False  \n",
       "1           False  \n",
       "2           False  \n",
       "3           False  \n",
       "4           False  \n",
       "...           ...  \n",
       "39165       False  \n",
       "39166       False  \n",
       "39167        True  \n",
       "39168       False  \n",
       "39169       False  \n",
       "\n",
       "[39170 rows x 7 columns]"
      ]
     },
     "execution_count": 26,
     "metadata": {},
     "output_type": "execute_result"
    }
   ],
   "source": [
    "#  Step 4. Check the student data for NaN's. \n",
    "student_data_df.isnull()"
   ]
  },
  {
   "cell_type": "markdown",
   "id": "d2a7c620",
   "metadata": {},
   "source": [
    "## Deliverable 2 : Repeat the school district analysis"
   ]
  },
  {
   "cell_type": "markdown",
   "id": "b6339f7c",
   "metadata": {},
   "source": [
    "### District Summary"
   ]
  },
  {
   "cell_type": "code",
   "execution_count": 40,
   "id": "a310c55f",
   "metadata": {},
   "outputs": [
    {
     "data": {
      "text/html": [
       "<div>\n",
       "<style scoped>\n",
       "    .dataframe tbody tr th:only-of-type {\n",
       "        vertical-align: middle;\n",
       "    }\n",
       "\n",
       "    .dataframe tbody tr th {\n",
       "        vertical-align: top;\n",
       "    }\n",
       "\n",
       "    .dataframe thead th {\n",
       "        text-align: right;\n",
       "    }\n",
       "</style>\n",
       "<table border=\"1\" class=\"dataframe\">\n",
       "  <thead>\n",
       "    <tr style=\"text-align: right;\">\n",
       "      <th></th>\n",
       "      <th>Student ID</th>\n",
       "      <th>student_name</th>\n",
       "      <th>gender</th>\n",
       "      <th>grade</th>\n",
       "      <th>school_name</th>\n",
       "      <th>reading_score</th>\n",
       "      <th>math_score</th>\n",
       "      <th>School ID</th>\n",
       "      <th>type</th>\n",
       "      <th>size</th>\n",
       "      <th>budget</th>\n",
       "    </tr>\n",
       "  </thead>\n",
       "  <tbody>\n",
       "    <tr>\n",
       "      <th>0</th>\n",
       "      <td>0</td>\n",
       "      <td>Paul Bradley</td>\n",
       "      <td>M</td>\n",
       "      <td>9th</td>\n",
       "      <td>Huang High School</td>\n",
       "      <td>66.0</td>\n",
       "      <td>79.0</td>\n",
       "      <td>0</td>\n",
       "      <td>District</td>\n",
       "      <td>2917</td>\n",
       "      <td>1910635</td>\n",
       "    </tr>\n",
       "    <tr>\n",
       "      <th>1</th>\n",
       "      <td>1</td>\n",
       "      <td>Victor Smith</td>\n",
       "      <td>M</td>\n",
       "      <td>12th</td>\n",
       "      <td>Huang High School</td>\n",
       "      <td>94.0</td>\n",
       "      <td>61.0</td>\n",
       "      <td>0</td>\n",
       "      <td>District</td>\n",
       "      <td>2917</td>\n",
       "      <td>1910635</td>\n",
       "    </tr>\n",
       "    <tr>\n",
       "      <th>2</th>\n",
       "      <td>2</td>\n",
       "      <td>Kevin Rodriguez</td>\n",
       "      <td>M</td>\n",
       "      <td>12th</td>\n",
       "      <td>Huang High School</td>\n",
       "      <td>90.0</td>\n",
       "      <td>60.0</td>\n",
       "      <td>0</td>\n",
       "      <td>District</td>\n",
       "      <td>2917</td>\n",
       "      <td>1910635</td>\n",
       "    </tr>\n",
       "    <tr>\n",
       "      <th>3</th>\n",
       "      <td>3</td>\n",
       "      <td>Richard Scott</td>\n",
       "      <td>M</td>\n",
       "      <td>12th</td>\n",
       "      <td>Huang High School</td>\n",
       "      <td>67.0</td>\n",
       "      <td>58.0</td>\n",
       "      <td>0</td>\n",
       "      <td>District</td>\n",
       "      <td>2917</td>\n",
       "      <td>1910635</td>\n",
       "    </tr>\n",
       "    <tr>\n",
       "      <th>4</th>\n",
       "      <td>4</td>\n",
       "      <td>Bonnie Ray</td>\n",
       "      <td>F</td>\n",
       "      <td>9th</td>\n",
       "      <td>Huang High School</td>\n",
       "      <td>97.0</td>\n",
       "      <td>84.0</td>\n",
       "      <td>0</td>\n",
       "      <td>District</td>\n",
       "      <td>2917</td>\n",
       "      <td>1910635</td>\n",
       "    </tr>\n",
       "  </tbody>\n",
       "</table>\n",
       "</div>"
      ],
      "text/plain": [
       "   Student ID     student_name gender grade        school_name  reading_score  \\\n",
       "0           0     Paul Bradley      M   9th  Huang High School           66.0   \n",
       "1           1     Victor Smith      M  12th  Huang High School           94.0   \n",
       "2           2  Kevin Rodriguez      M  12th  Huang High School           90.0   \n",
       "3           3    Richard Scott      M  12th  Huang High School           67.0   \n",
       "4           4       Bonnie Ray      F   9th  Huang High School           97.0   \n",
       "\n",
       "   math_score  School ID      type  size   budget  \n",
       "0        79.0          0  District  2917  1910635  \n",
       "1        61.0          0  District  2917  1910635  \n",
       "2        60.0          0  District  2917  1910635  \n",
       "3        58.0          0  District  2917  1910635  \n",
       "4        84.0          0  District  2917  1910635  "
      ]
     },
     "execution_count": 40,
     "metadata": {},
     "output_type": "execute_result"
    }
   ],
   "source": [
    "# Combine the data into a single dataset\n",
    "school_data_complete_df = pd.merge(student_data_df, school_data_df, how=\"left\", on=[\"school_name\", \"school_name\"])\n",
    "school_data_complete_df.head()"
   ]
  },
  {
   "cell_type": "code",
   "execution_count": 41,
   "id": "0b9fa1b4",
   "metadata": {},
   "outputs": [],
   "source": [
    "# Calculate the Totals (Schools and Students)\n",
    "school_count = len(school_data_complete_df[\"school_name\"].unique())\n",
    "student_count = school_data_complete_df[\"Student ID\"].count()\n",
    "\n",
    "# Calculate the Total Budget\n",
    "total_budget = school_data_df[\"budget\"].sum()"
   ]
  },
  {
   "cell_type": "code",
   "execution_count": 42,
   "id": "d98fb369",
   "metadata": {},
   "outputs": [],
   "source": [
    "# Calculate the Average Scores using the \"clean_student_data\".\n",
    "average_reading_score = school_data_complete_df[\"reading_score\"].mean()\n",
    "average_math_score = school_data_complete_df[\"math_score\"].mean()"
   ]
  },
  {
   "cell_type": "code",
   "execution_count": 43,
   "id": "85b601f9",
   "metadata": {},
   "outputs": [],
   "source": [
    "# Step 1. Get the number of students that are in ninth grade at Thomas High School.\n",
    "# These students have no grades. \n",
    "grade_9_students = student_data_df.loc[(school_data_complete_df[\"school_name\"] == \"Thomas High School\") &\n",
    "                                       (school_data_complete_df[\"grade\"] == \"9th\")].count()[\"student_name\"]\n",
    "\n",
    "# Get the total student count \n",
    "student_count = school_data_complete_df[\"Student ID\"].count()\n",
    "\n",
    "# Step 2. Subtract the number of students that are in ninth grade at \n",
    "# Thomas High School from the total student count to get the new total student count.\n",
    "new_total_student_count = student_count - grade_9_students"
   ]
  },
  {
   "cell_type": "code",
   "execution_count": 44,
   "id": "255af2f5",
   "metadata": {},
   "outputs": [],
   "source": [
    "# Calculate the passing rates using the \"clean_student_data\".\n",
    "passing_math_count = school_data_complete_df[(school_data_complete_df[\"math_score\"] >= 70)].count()[\"student_name\"]\n",
    "passing_reading_count = school_data_complete_df[(school_data_complete_df[\"reading_score\"] >= 70)].count()[\"student_name\"]"
   ]
  },
  {
   "cell_type": "code",
   "execution_count": 45,
   "id": "89a05c32",
   "metadata": {},
   "outputs": [],
   "source": [
    "# Step 3. Calculate the passing percentages with the new total student count.\n",
    "passing_math_percentage = passing_math_count / float(new_total_student_count) * 100\n",
    "passing_reading_percentage = passing_reading_count / float(new_total_student_count) * 100\n"
   ]
  },
  {
   "cell_type": "code",
   "execution_count": 46,
   "id": "5305c348",
   "metadata": {},
   "outputs": [],
   "source": [
    "# Calculate the students who passed both reading and math.\n",
    "passing_math_reading = school_data_complete_df[(school_data_complete_df[\"math_score\"] >= 70)\n",
    "                                               & (school_data_complete_df[\"reading_score\"] >= 70)]\n",
    "\n",
    "# Calculate the number of students that passed both reading and math.\n",
    "overall_passing_math_reading_count = passing_math_reading[\"student_name\"].count()\n",
    "\n",
    "\n",
    "# Step 4.Calculate the overall passing percentage with new total student count.\n",
    "overall_passing_percentage = overall_passing_math_reading_count / new_total_student_count * 100\n"
   ]
  },
  {
   "cell_type": "code",
   "execution_count": 47,
   "id": "072bb16d",
   "metadata": {},
   "outputs": [
    {
     "data": {
      "text/html": [
       "<div>\n",
       "<style scoped>\n",
       "    .dataframe tbody tr th:only-of-type {\n",
       "        vertical-align: middle;\n",
       "    }\n",
       "\n",
       "    .dataframe tbody tr th {\n",
       "        vertical-align: top;\n",
       "    }\n",
       "\n",
       "    .dataframe thead th {\n",
       "        text-align: right;\n",
       "    }\n",
       "</style>\n",
       "<table border=\"1\" class=\"dataframe\">\n",
       "  <thead>\n",
       "    <tr style=\"text-align: right;\">\n",
       "      <th></th>\n",
       "      <th>Total Schools</th>\n",
       "      <th>Total Students</th>\n",
       "      <th>Total Budget</th>\n",
       "      <th>Average Math Score</th>\n",
       "      <th>Average Reading Score</th>\n",
       "      <th>% Passing Math</th>\n",
       "      <th>% Passing Reading</th>\n",
       "      <th>% Overall Passing</th>\n",
       "    </tr>\n",
       "  </thead>\n",
       "  <tbody>\n",
       "    <tr>\n",
       "      <th>0</th>\n",
       "      <td>15</td>\n",
       "      <td>39,170</td>\n",
       "      <td>$24,649,428.00</td>\n",
       "      <td>78.9</td>\n",
       "      <td>81.9</td>\n",
       "      <td>74.8</td>\n",
       "      <td>85.7</td>\n",
       "      <td>64.9</td>\n",
       "    </tr>\n",
       "  </tbody>\n",
       "</table>\n",
       "</div>"
      ],
      "text/plain": [
       "   Total Schools Total Students    Total Budget Average Math Score  \\\n",
       "0             15         39,170  $24,649,428.00               78.9   \n",
       "\n",
       "  Average Reading Score % Passing Math % Passing Reading % Overall Passing  \n",
       "0                  81.9           74.8              85.7              64.9  "
      ]
     },
     "execution_count": 47,
     "metadata": {},
     "output_type": "execute_result"
    }
   ],
   "source": [
    "# Create a DataFrame\n",
    "district_summary_df = pd.DataFrame(\n",
    "          [{\"Total Schools\": school_count, \n",
    "          \"Total Students\": student_count, \n",
    "          \"Total Budget\": total_budget,\n",
    "          \"Average Math Score\": average_math_score, \n",
    "          \"Average Reading Score\": average_reading_score,\n",
    "          \"% Passing Math\": passing_math_percentage,\n",
    "         \"% Passing Reading\": passing_reading_percentage,\n",
    "        \"% Overall Passing\": overall_passing_percentage}])\n",
    "\n",
    "\n",
    "\n",
    "# Format the \"Total Students\" to have the comma for a thousands separator.\n",
    "district_summary_df[\"Total Students\"] = district_summary_df[\"Total Students\"].map(\"{:,}\".format)\n",
    "# Format the \"Total Budget\" to have the comma for a thousands separator, a decimal separator and a \"$\".\n",
    "district_summary_df[\"Total Budget\"] = district_summary_df[\"Total Budget\"].map(\"${:,.2f}\".format)\n",
    "# Format the columns.\n",
    "district_summary_df[\"Average Math Score\"] = district_summary_df[\"Average Math Score\"].map(\"{:.1f}\".format)\n",
    "district_summary_df[\"Average Reading Score\"] = district_summary_df[\"Average Reading Score\"].map(\"{:.1f}\".format)\n",
    "district_summary_df[\"% Passing Math\"] = district_summary_df[\"% Passing Math\"].map(\"{:.1f}\".format)\n",
    "district_summary_df[\"% Passing Reading\"] = district_summary_df[\"% Passing Reading\"].map(\"{:.1f}\".format)\n",
    "district_summary_df[\"% Overall Passing\"] = district_summary_df[\"% Overall Passing\"].map(\"{:.1f}\".format)\n",
    "\n",
    "# Display the data frame\n",
    "district_summary_df"
   ]
  },
  {
   "cell_type": "markdown",
   "id": "e4d91220",
   "metadata": {},
   "source": [
    "##  School Summary"
   ]
  },
  {
   "cell_type": "code",
   "execution_count": 70,
   "id": "4e7bd0a3",
   "metadata": {},
   "outputs": [],
   "source": [
    "# Determine the School Type\n",
    "per_school_types = school_data_df.set_index([\"school_name\"])[\"type\"]\n",
    "\n",
    "# Calculate the total student count.\n",
    "per_school_counts = school_data_complete_df[\"school_name\"].value_counts()\n",
    "\n",
    "# Calculate the total school budget and per capita spending\n",
    "per_school_budget = school_data_complete_df.groupby([\"school_name\"]).mean()[\"budget\"]\n",
    "# Calculate the per capita spending.\n",
    "per_school_capita = per_school_budget / per_school_counts\n",
    "\n",
    "# Calculate the average test scores.\n",
    "per_school_math = school_data_complete_df.groupby([\"school_name\"]).mean()[\"math_score\"]\n",
    "per_school_reading = school_data_complete_df.groupby([\"school_name\"]).mean()[\"reading_score\"]\n",
    "\n",
    "# Calculate the passing scores by creating a filtered DataFrame.\n",
    "per_school_passing_math = school_data_complete_df[(school_data_complete_df[\"math_score\"] >= 70)]\n",
    "per_school_passing_reading = school_data_complete_df[(school_data_complete_df[\"reading_score\"] >= 70)]\n",
    "\n",
    "# Calculate the number of students passing math and passing reading by school.\n",
    "per_school_passing_math = per_school_passing_math.groupby([\"school_name\"]).count()[\"student_name\"]\n",
    "per_school_passing_reading = per_school_passing_reading.groupby([\"school_name\"]).count()[\"student_name\"]\n",
    "\n",
    "# Calculate the percentage of passing math and reading scores per school.\n",
    "per_school_passing_math = per_school_passing_math / per_school_counts * 100\n",
    "per_school_passing_reading = per_school_passing_reading / per_school_counts * 100\n",
    "\n",
    "# Calculate the students who passed both reading and math.\n",
    "per_passing_math_reading = school_data_complete_df[(school_data_complete_df[\"reading_score\"] >= 70)\n",
    "                                               & (school_data_complete_df[\"math_score\"] >= 70)]\n",
    "\n",
    "# Calculate the number of students passing math and passing reading by school.\n",
    "per_passing_math_reading = per_passing_math_reading.groupby([\"school_name\"]).count()[\"student_name\"]\n",
    "\n",
    "# Calculate the percentage of passing math and reading scores per school.\n",
    "per_overall_passing_percentage = per_passing_math_reading / per_school_counts * 100"
   ]
  },
  {
   "cell_type": "code",
   "execution_count": 71,
   "id": "5643c748",
   "metadata": {},
   "outputs": [],
   "source": [
    "# Create the DataFrame\n",
    "per_school_summary_df = pd.DataFrame({\n",
    "    \"School Type\": per_school_types,\n",
    "    \"Total Students\": per_school_counts,\n",
    "    \"Total School Budget\": per_school_budget,\n",
    "    \"Per Student Budget\": per_school_capita,\n",
    "    \"Average Math Score\": per_school_math,\n",
    "    \"Average Reading Score\": per_school_reading,\n",
    "    \"% Passing Math\": per_school_passing_math,\n",
    "    \"% Passing Reading\": per_school_passing_reading,\n",
    "    \"% Overall Passing\": per_overall_passing_percentage})\n",
    "\n",
    "\n",
    "# per_school_summary_df.head()"
   ]
  },
  {
   "cell_type": "code",
   "execution_count": 72,
   "id": "550af19f",
   "metadata": {},
   "outputs": [
    {
     "data": {
      "text/html": [
       "<div>\n",
       "<style scoped>\n",
       "    .dataframe tbody tr th:only-of-type {\n",
       "        vertical-align: middle;\n",
       "    }\n",
       "\n",
       "    .dataframe tbody tr th {\n",
       "        vertical-align: top;\n",
       "    }\n",
       "\n",
       "    .dataframe thead th {\n",
       "        text-align: right;\n",
       "    }\n",
       "</style>\n",
       "<table border=\"1\" class=\"dataframe\">\n",
       "  <thead>\n",
       "    <tr style=\"text-align: right;\">\n",
       "      <th></th>\n",
       "      <th>School Type</th>\n",
       "      <th>Total Students</th>\n",
       "      <th>Total School Budget</th>\n",
       "      <th>Per Student Budget</th>\n",
       "      <th>Average Math Score</th>\n",
       "      <th>Average Reading Score</th>\n",
       "      <th>% Passing Math</th>\n",
       "      <th>% Passing Reading</th>\n",
       "      <th>% Overall Passing</th>\n",
       "    </tr>\n",
       "  </thead>\n",
       "  <tbody>\n",
       "    <tr>\n",
       "      <th>Bailey High School</th>\n",
       "      <td>District</td>\n",
       "      <td>4976</td>\n",
       "      <td>$3,124,928.00</td>\n",
       "      <td>$628.00</td>\n",
       "      <td>77.048432</td>\n",
       "      <td>81.033963</td>\n",
       "      <td>66.680064</td>\n",
       "      <td>81.933280</td>\n",
       "      <td>54.642283</td>\n",
       "    </tr>\n",
       "    <tr>\n",
       "      <th>Cabrera High School</th>\n",
       "      <td>Charter</td>\n",
       "      <td>1858</td>\n",
       "      <td>$1,081,356.00</td>\n",
       "      <td>$582.00</td>\n",
       "      <td>83.061895</td>\n",
       "      <td>83.975780</td>\n",
       "      <td>94.133477</td>\n",
       "      <td>97.039828</td>\n",
       "      <td>91.334769</td>\n",
       "    </tr>\n",
       "    <tr>\n",
       "      <th>Figueroa High School</th>\n",
       "      <td>District</td>\n",
       "      <td>2949</td>\n",
       "      <td>$1,884,411.00</td>\n",
       "      <td>$639.00</td>\n",
       "      <td>76.711767</td>\n",
       "      <td>81.158020</td>\n",
       "      <td>65.988471</td>\n",
       "      <td>80.739234</td>\n",
       "      <td>53.204476</td>\n",
       "    </tr>\n",
       "    <tr>\n",
       "      <th>Ford High School</th>\n",
       "      <td>District</td>\n",
       "      <td>2739</td>\n",
       "      <td>$1,763,916.00</td>\n",
       "      <td>$644.00</td>\n",
       "      <td>77.102592</td>\n",
       "      <td>80.746258</td>\n",
       "      <td>68.309602</td>\n",
       "      <td>79.299014</td>\n",
       "      <td>54.289887</td>\n",
       "    </tr>\n",
       "    <tr>\n",
       "      <th>Griffin High School</th>\n",
       "      <td>Charter</td>\n",
       "      <td>1468</td>\n",
       "      <td>$917,500.00</td>\n",
       "      <td>$625.00</td>\n",
       "      <td>83.351499</td>\n",
       "      <td>83.816757</td>\n",
       "      <td>93.392371</td>\n",
       "      <td>97.138965</td>\n",
       "      <td>90.599455</td>\n",
       "    </tr>\n",
       "    <tr>\n",
       "      <th>Hernandez High School</th>\n",
       "      <td>District</td>\n",
       "      <td>4635</td>\n",
       "      <td>$3,022,020.00</td>\n",
       "      <td>$652.00</td>\n",
       "      <td>77.289752</td>\n",
       "      <td>80.934412</td>\n",
       "      <td>66.752967</td>\n",
       "      <td>80.862999</td>\n",
       "      <td>53.527508</td>\n",
       "    </tr>\n",
       "    <tr>\n",
       "      <th>Holden High School</th>\n",
       "      <td>Charter</td>\n",
       "      <td>427</td>\n",
       "      <td>$248,087.00</td>\n",
       "      <td>$581.00</td>\n",
       "      <td>83.803279</td>\n",
       "      <td>83.814988</td>\n",
       "      <td>92.505855</td>\n",
       "      <td>96.252927</td>\n",
       "      <td>89.227166</td>\n",
       "    </tr>\n",
       "    <tr>\n",
       "      <th>Huang High School</th>\n",
       "      <td>District</td>\n",
       "      <td>2917</td>\n",
       "      <td>$1,910,635.00</td>\n",
       "      <td>$655.00</td>\n",
       "      <td>76.629414</td>\n",
       "      <td>81.182722</td>\n",
       "      <td>65.683922</td>\n",
       "      <td>81.316421</td>\n",
       "      <td>53.513884</td>\n",
       "    </tr>\n",
       "    <tr>\n",
       "      <th>Johnson High School</th>\n",
       "      <td>District</td>\n",
       "      <td>4761</td>\n",
       "      <td>$3,094,650.00</td>\n",
       "      <td>$650.00</td>\n",
       "      <td>77.072464</td>\n",
       "      <td>80.966394</td>\n",
       "      <td>66.057551</td>\n",
       "      <td>81.222432</td>\n",
       "      <td>53.539172</td>\n",
       "    </tr>\n",
       "    <tr>\n",
       "      <th>Pena High School</th>\n",
       "      <td>Charter</td>\n",
       "      <td>962</td>\n",
       "      <td>$585,858.00</td>\n",
       "      <td>$609.00</td>\n",
       "      <td>83.839917</td>\n",
       "      <td>84.044699</td>\n",
       "      <td>94.594595</td>\n",
       "      <td>95.945946</td>\n",
       "      <td>90.540541</td>\n",
       "    </tr>\n",
       "    <tr>\n",
       "      <th>Rodriguez High School</th>\n",
       "      <td>District</td>\n",
       "      <td>3999</td>\n",
       "      <td>$2,547,363.00</td>\n",
       "      <td>$637.00</td>\n",
       "      <td>76.842711</td>\n",
       "      <td>80.744686</td>\n",
       "      <td>66.366592</td>\n",
       "      <td>80.220055</td>\n",
       "      <td>52.988247</td>\n",
       "    </tr>\n",
       "    <tr>\n",
       "      <th>Shelton High School</th>\n",
       "      <td>Charter</td>\n",
       "      <td>1761</td>\n",
       "      <td>$1,056,600.00</td>\n",
       "      <td>$600.00</td>\n",
       "      <td>83.359455</td>\n",
       "      <td>83.725724</td>\n",
       "      <td>93.867121</td>\n",
       "      <td>95.854628</td>\n",
       "      <td>89.892107</td>\n",
       "    </tr>\n",
       "    <tr>\n",
       "      <th>Thomas High School</th>\n",
       "      <td>Charter</td>\n",
       "      <td>1635</td>\n",
       "      <td>$1,043,130.00</td>\n",
       "      <td>$638.00</td>\n",
       "      <td>83.350937</td>\n",
       "      <td>83.896082</td>\n",
       "      <td>66.911315</td>\n",
       "      <td>69.663609</td>\n",
       "      <td>65.076453</td>\n",
       "    </tr>\n",
       "    <tr>\n",
       "      <th>Wilson High School</th>\n",
       "      <td>Charter</td>\n",
       "      <td>2283</td>\n",
       "      <td>$1,319,574.00</td>\n",
       "      <td>$578.00</td>\n",
       "      <td>83.274201</td>\n",
       "      <td>83.989488</td>\n",
       "      <td>93.867718</td>\n",
       "      <td>96.539641</td>\n",
       "      <td>90.582567</td>\n",
       "    </tr>\n",
       "    <tr>\n",
       "      <th>Wright High School</th>\n",
       "      <td>Charter</td>\n",
       "      <td>1800</td>\n",
       "      <td>$1,049,400.00</td>\n",
       "      <td>$583.00</td>\n",
       "      <td>83.682222</td>\n",
       "      <td>83.955000</td>\n",
       "      <td>93.333333</td>\n",
       "      <td>96.611111</td>\n",
       "      <td>90.333333</td>\n",
       "    </tr>\n",
       "  </tbody>\n",
       "</table>\n",
       "</div>"
      ],
      "text/plain": [
       "                      School Type  Total Students Total School Budget  \\\n",
       "Bailey High School       District            4976       $3,124,928.00   \n",
       "Cabrera High School       Charter            1858       $1,081,356.00   \n",
       "Figueroa High School     District            2949       $1,884,411.00   \n",
       "Ford High School         District            2739       $1,763,916.00   \n",
       "Griffin High School       Charter            1468         $917,500.00   \n",
       "Hernandez High School    District            4635       $3,022,020.00   \n",
       "Holden High School        Charter             427         $248,087.00   \n",
       "Huang High School        District            2917       $1,910,635.00   \n",
       "Johnson High School      District            4761       $3,094,650.00   \n",
       "Pena High School          Charter             962         $585,858.00   \n",
       "Rodriguez High School    District            3999       $2,547,363.00   \n",
       "Shelton High School       Charter            1761       $1,056,600.00   \n",
       "Thomas High School        Charter            1635       $1,043,130.00   \n",
       "Wilson High School        Charter            2283       $1,319,574.00   \n",
       "Wright High School        Charter            1800       $1,049,400.00   \n",
       "\n",
       "                      Per Student Budget  Average Math Score  \\\n",
       "Bailey High School               $628.00           77.048432   \n",
       "Cabrera High School              $582.00           83.061895   \n",
       "Figueroa High School             $639.00           76.711767   \n",
       "Ford High School                 $644.00           77.102592   \n",
       "Griffin High School              $625.00           83.351499   \n",
       "Hernandez High School            $652.00           77.289752   \n",
       "Holden High School               $581.00           83.803279   \n",
       "Huang High School                $655.00           76.629414   \n",
       "Johnson High School              $650.00           77.072464   \n",
       "Pena High School                 $609.00           83.839917   \n",
       "Rodriguez High School            $637.00           76.842711   \n",
       "Shelton High School              $600.00           83.359455   \n",
       "Thomas High School               $638.00           83.350937   \n",
       "Wilson High School               $578.00           83.274201   \n",
       "Wright High School               $583.00           83.682222   \n",
       "\n",
       "                       Average Reading Score  % Passing Math  \\\n",
       "Bailey High School                 81.033963       66.680064   \n",
       "Cabrera High School                83.975780       94.133477   \n",
       "Figueroa High School               81.158020       65.988471   \n",
       "Ford High School                   80.746258       68.309602   \n",
       "Griffin High School                83.816757       93.392371   \n",
       "Hernandez High School              80.934412       66.752967   \n",
       "Holden High School                 83.814988       92.505855   \n",
       "Huang High School                  81.182722       65.683922   \n",
       "Johnson High School                80.966394       66.057551   \n",
       "Pena High School                   84.044699       94.594595   \n",
       "Rodriguez High School              80.744686       66.366592   \n",
       "Shelton High School                83.725724       93.867121   \n",
       "Thomas High School                 83.896082       66.911315   \n",
       "Wilson High School                 83.989488       93.867718   \n",
       "Wright High School                 83.955000       93.333333   \n",
       "\n",
       "                       % Passing Reading  % Overall Passing  \n",
       "Bailey High School             81.933280          54.642283  \n",
       "Cabrera High School            97.039828          91.334769  \n",
       "Figueroa High School           80.739234          53.204476  \n",
       "Ford High School               79.299014          54.289887  \n",
       "Griffin High School            97.138965          90.599455  \n",
       "Hernandez High School          80.862999          53.527508  \n",
       "Holden High School             96.252927          89.227166  \n",
       "Huang High School              81.316421          53.513884  \n",
       "Johnson High School            81.222432          53.539172  \n",
       "Pena High School               95.945946          90.540541  \n",
       "Rodriguez High School          80.220055          52.988247  \n",
       "Shelton High School            95.854628          89.892107  \n",
       "Thomas High School             69.663609          65.076453  \n",
       "Wilson High School             96.539641          90.582567  \n",
       "Wright High School             96.611111          90.333333  "
      ]
     },
     "execution_count": 72,
     "metadata": {},
     "output_type": "execute_result"
    }
   ],
   "source": [
    "# Format the Total School Budget and the Per Student Budget\n",
    "per_school_summary_df[\"Total School Budget\"] = per_school_summary_df[\"Total School Budget\"].map(\"${:,.2f}\".format)\n",
    "per_school_summary_df[\"Per Student Budget\"] = per_school_summary_df[\"Per Student Budget\"].map(\"${:,.2f}\".format)\n",
    "\n",
    "# Display the data frame\n",
    "per_school_summary_df"
   ]
  },
  {
   "cell_type": "code",
   "execution_count": 82,
   "id": "980e0132",
   "metadata": {},
   "outputs": [],
   "source": [
    "# Step 5.  Get the number of 10th-12th graders from Thomas High School (THS).\n",
    "ths_count = school_data_complete_df.loc[\n",
    "    (school_data_complete_df[\"school_name\"] == \"Thomas High School\") &\n",
    "    (school_data_complete_df[\"grade\"] != \"9th\")].count() "
   ]
  },
  {
   "cell_type": "code",
   "execution_count": 83,
   "id": "319529ee",
   "metadata": {
    "scrolled": true
   },
   "outputs": [],
   "source": [
    "# Step 6. Get all the students passing math from THS\n",
    "ths_passing_math = student_data_df.loc[\n",
    "    (student_data_df[\"school_name\"] == \"Thomas High School\") & (student_data_df[\"math_score\"] >=70)]\n",
    "ths_passing_math = len(ths_passing_math)                                                "
   ]
  },
  {
   "cell_type": "code",
   "execution_count": 84,
   "id": "166e7d29",
   "metadata": {},
   "outputs": [],
   "source": [
    "# Step 7. Get all the students passing reading from THS\n",
    "ths_passing_reading = student_data_df.loc[\n",
    "    (student_data_df[\"school_name\"] == \"Thomas High School\") & (student_data_df[\"reading_score\"] >= 70)]\n",
    "ths_passing_reading= len(ths_passing_reading)"
   ]
  },
  {
   "cell_type": "code",
   "execution_count": 85,
   "id": "e484e83b",
   "metadata": {},
   "outputs": [],
   "source": [
    "# Step 8. Get all the students passing math and reading from THS\n",
    "ths_passing_math_reading = student_data_df.loc[\n",
    "    (student_data_df[\"reading_score\"] >= 70) & (student_data_df[\"math_score\"] >= 70)]\n",
    "ths_passing_math_reading = len(ths_passing_math_reading)"
   ]
  },
  {
   "cell_type": "code",
   "execution_count": 86,
   "id": "482b758e",
   "metadata": {},
   "outputs": [],
   "source": [
    "# Step 9. Calculate the percentage of 10th-12th grade students passing math from Thomas High School. \n",
    "ths_passing_math_percentage = ths_passing_math / ths_count * 100"
   ]
  },
  {
   "cell_type": "code",
   "execution_count": 87,
   "id": "22650057",
   "metadata": {},
   "outputs": [],
   "source": [
    "# Step 10. Calculate the percentage of 10th-12th grade students passing reading from Thomas High School.\n",
    "ths_passing_reading_percentage = ths_passing_reading / ths_count * 100"
   ]
  },
  {
   "cell_type": "code",
   "execution_count": null,
   "id": "80daf84d",
   "metadata": {},
   "outputs": [],
   "source": [
    "# Step 11. Calculate the overall passing percentage of 10th-12th grade from Thomas High School. \n",
    "\n"
   ]
  },
  {
   "cell_type": "code",
   "execution_count": null,
   "id": "64dae9ba",
   "metadata": {},
   "outputs": [],
   "source": [
    "# Step 12. Replace the passing math percent for Thomas High School in the per_school_summary_df.\n"
   ]
  },
  {
   "cell_type": "code",
   "execution_count": null,
   "id": "b89ad49b",
   "metadata": {},
   "outputs": [],
   "source": [
    "# Step 13. Replace the passing reading percentage for Thomas High School in the per_school_summary_df.\n"
   ]
  },
  {
   "cell_type": "code",
   "execution_count": null,
   "id": "1bf8543c",
   "metadata": {},
   "outputs": [],
   "source": [
    "# Step 14. Replace the overall passing percentage for Thomas High School in the per_school_summary_df.\n"
   ]
  },
  {
   "cell_type": "code",
   "execution_count": null,
   "id": "2a41872a",
   "metadata": {},
   "outputs": [],
   "source": [
    "# per_school_summary_df"
   ]
  },
  {
   "cell_type": "markdown",
   "id": "aeb7e275",
   "metadata": {},
   "source": [
    "## High and Low Performing Schools "
   ]
  },
  {
   "cell_type": "code",
   "execution_count": null,
   "id": "eb56dd07",
   "metadata": {
    "scrolled": true
   },
   "outputs": [],
   "source": [
    "# Sort and show top five schools.\n"
   ]
  },
  {
   "cell_type": "code",
   "execution_count": null,
   "id": "43ddc994",
   "metadata": {},
   "outputs": [],
   "source": [
    "# Sort and show top five schools.\n"
   ]
  },
  {
   "cell_type": "markdown",
   "id": "8c63da3b",
   "metadata": {
    "collapsed": true
   },
   "source": [
    "## Math and Reading Scores by Grade"
   ]
  },
  {
   "cell_type": "code",
   "execution_count": null,
   "id": "7570f416",
   "metadata": {},
   "outputs": [],
   "source": [
    "# Create a Series of scores by grade levels using conditionals.\n",
    "\n",
    "\n",
    "# Group each school Series by the school name for the average math score.\n",
    "\n",
    "\n",
    "# Group each school Series by the school name for the average reading score.\n"
   ]
  },
  {
   "cell_type": "code",
   "execution_count": null,
   "id": "fad0e3a7",
   "metadata": {},
   "outputs": [],
   "source": [
    "# Combine each Series for average math scores by school into single data frame.\n"
   ]
  },
  {
   "cell_type": "code",
   "execution_count": null,
   "id": "7dbb23b0",
   "metadata": {},
   "outputs": [],
   "source": [
    "# Combine each Series for average reading scores by school into single data frame.\n"
   ]
  },
  {
   "cell_type": "code",
   "execution_count": null,
   "id": "659c2910",
   "metadata": {},
   "outputs": [],
   "source": [
    "# Format each grade column.\n"
   ]
  },
  {
   "cell_type": "code",
   "execution_count": null,
   "id": "8612dd34",
   "metadata": {},
   "outputs": [],
   "source": [
    "# Remove the index.\n",
    "#reading_scores_by_grade.index.name = None\n",
    "\n",
    "# Display the data frame\n"
   ]
  },
  {
   "cell_type": "code",
   "execution_count": null,
   "id": "1ffad873",
   "metadata": {},
   "outputs": [],
   "source": [
    "## Remove the index.\n",
    "\n",
    "\n",
    "# Display the data frame\n"
   ]
  },
  {
   "cell_type": "markdown",
   "id": "f49d40bd",
   "metadata": {},
   "source": [
    "## Scores by School Spending"
   ]
  },
  {
   "cell_type": "code",
   "execution_count": null,
   "id": "afd4e12d",
   "metadata": {},
   "outputs": [],
   "source": [
    "# Establish the spending bins and group names.\n",
    "\n",
    "\n",
    "# Categorize spending based on the bins.\n"
   ]
  },
  {
   "cell_type": "code",
   "execution_count": null,
   "id": "a5841068",
   "metadata": {},
   "outputs": [],
   "source": [
    "# Calculate averages for the desired columns. \n"
   ]
  },
  {
   "cell_type": "code",
   "execution_count": null,
   "id": "4f7a3cdb",
   "metadata": {},
   "outputs": [],
   "source": [
    "# Create the DataFrame\n"
   ]
  },
  {
   "cell_type": "code",
   "execution_count": null,
   "id": "c9376b60",
   "metadata": {},
   "outputs": [],
   "source": [
    "# Format the DataFrame \n"
   ]
  },
  {
   "cell_type": "markdown",
   "id": "4e6d3bbe",
   "metadata": {},
   "source": [
    "## Scores by School Size"
   ]
  },
  {
   "cell_type": "code",
   "execution_count": null,
   "id": "a2b505cf",
   "metadata": {},
   "outputs": [],
   "source": [
    "# Establish the bins.\n",
    "\n",
    "# Categorize spending based on the bins.\n"
   ]
  },
  {
   "cell_type": "code",
   "execution_count": null,
   "id": "9a3b9a8a",
   "metadata": {},
   "outputs": [],
   "source": [
    "# Calculate averages for the desired columns. \n"
   ]
  },
  {
   "cell_type": "code",
   "execution_count": null,
   "id": "8677c702",
   "metadata": {
    "scrolled": true
   },
   "outputs": [],
   "source": [
    "# Assemble into DataFrame. \n"
   ]
  },
  {
   "cell_type": "code",
   "execution_count": null,
   "id": "2f4cdc22",
   "metadata": {},
   "outputs": [],
   "source": [
    "# Format the DataFrame  \n"
   ]
  },
  {
   "cell_type": "markdown",
   "id": "599ae189",
   "metadata": {},
   "source": [
    "## Scores by School Type"
   ]
  },
  {
   "cell_type": "code",
   "execution_count": null,
   "id": "6cb80d74",
   "metadata": {},
   "outputs": [],
   "source": [
    "# Calculate averages for the desired columns. \n"
   ]
  },
  {
   "cell_type": "code",
   "execution_count": null,
   "id": "85acc6ff",
   "metadata": {},
   "outputs": [],
   "source": [
    "# Assemble into DataFrame. \n"
   ]
  },
  {
   "cell_type": "code",
   "execution_count": null,
   "id": "9992acfd",
   "metadata": {},
   "outputs": [],
   "source": [
    "# # Format the DataFrame \n"
   ]
  },
  {
   "cell_type": "code",
   "execution_count": null,
   "id": "d11c9842",
   "metadata": {},
   "outputs": [],
   "source": []
  },
  {
   "cell_type": "code",
   "execution_count": null,
   "id": "bd36353f",
   "metadata": {},
   "outputs": [],
   "source": [
    "# Dependencies and Setup\n",
    "import pandas as pd\n",
    "\n",
    "# File to Load (Remember to change the path if needed.)\n",
    "school_data_to_load = \"Resources/schools_complete.csv\"\n",
    "student_data_to_load = \"Resources/students_complete.csv\"\n",
    "\n",
    "# Read the School Data and Student Data and store into a Pandas DataFrame\n",
    "school_data_df = pd.read_csv(school_data_to_load)\n",
    "student_data_df = pd.read_csv(student_data_to_load)\n",
    "\n",
    "# Cleaning Student Names and Replacing Substrings in a Python String\n",
    "# Add each prefix and suffix to remove to a list.\n",
    "prefixes_suffixes = [\"Dr. \", \"Mr. \",\"Ms. \", \"Mrs. \", \"Miss \", \" MD\", \" DDS\", \" DVM\", \" PhD\"]\n",
    "\n",
    "# Iterate through the words in the \"prefixes_suffixes\" list and replace them with an empty space, \"\".\n",
    "for word in prefixes_suffixes:\n",
    "    student_data_df[\"student_name\"] = student_data_df[\"student_name\"].str.replace(word,\"\")\n",
    "\n",
    "# Check names.\n",
    "student_data_df.head(10)"
   ]
  },
  {
   "cell_type": "markdown",
   "id": "b0f68cef",
   "metadata": {},
   "source": [
    "## Deliverable 1: Replace the reading and math scores.\n",
    "\n",
    "### Replace the 9th grade reading and math scores at Thomas High School with NaN."
   ]
  },
  {
   "cell_type": "code",
   "execution_count": null,
   "id": "d6448f1e",
   "metadata": {},
   "outputs": [],
   "source": [
    "# Install numpy using conda install numpy or pip install numpy. \n",
    "# Step 1. Import numpy as np.\n",
    "import numpy as np"
   ]
  },
  {
   "cell_type": "code",
   "execution_count": null,
   "id": "89207e2e",
   "metadata": {},
   "outputs": [],
   "source": [
    "# Step 2. Use the loc method on the student_data_df to select all the reading scores from the 9th grade at Thomas High School and replace them with NaN.\n",
    "student_data_df.loc[]\n",
    "\n"
   ]
  },
  {
   "cell_type": "code",
   "execution_count": null,
   "id": "fd8a62c8",
   "metadata": {},
   "outputs": [],
   "source": [
    "#  Step 3. Refactor the code in Step 2 to replace the math scores with NaN.\n"
   ]
  },
  {
   "cell_type": "code",
   "execution_count": null,
   "id": "560facbc",
   "metadata": {},
   "outputs": [],
   "source": [
    "#  Step 4. Check the student data for NaN's. \n",
    "\n"
   ]
  },
  {
   "cell_type": "markdown",
   "id": "8de4fe0a",
   "metadata": {},
   "source": [
    "## Deliverable 2 : Repeat the school district analysis"
   ]
  },
  {
   "cell_type": "markdown",
   "id": "91d8a978",
   "metadata": {},
   "source": [
    "### District Summary"
   ]
  },
  {
   "cell_type": "code",
   "execution_count": null,
   "id": "bf5919c4",
   "metadata": {},
   "outputs": [],
   "source": [
    "# Combine the data into a single dataset\n",
    "school_data_complete_df = pd.merge(student_data_df, school_data_df, how=\"left\", on=[\"school_name\", \"school_name\"])\n",
    "school_data_complete_df.head()"
   ]
  },
  {
   "cell_type": "code",
   "execution_count": null,
   "id": "f4ae4482",
   "metadata": {},
   "outputs": [],
   "source": [
    "# Calculate the Totals (Schools and Students)\n",
    "school_count = len(school_data_complete_df[\"school_name\"].unique())\n",
    "student_count = school_data_complete_df[\"Student ID\"].count()\n",
    "\n",
    "# Calculate the Total Budget\n",
    "total_budget = school_data_df[\"budget\"].sum()"
   ]
  },
  {
   "cell_type": "code",
   "execution_count": null,
   "id": "039a242b",
   "metadata": {},
   "outputs": [],
   "source": [
    "# Calculate the Average Scores using the \"clean_student_data\".\n",
    "average_reading_score = school_data_complete_df[\"reading_score\"].mean()\n",
    "average_math_score = school_data_complete_df[\"math_score\"].mean()"
   ]
  },
  {
   "cell_type": "code",
   "execution_count": null,
   "id": "7936e456",
   "metadata": {},
   "outputs": [],
   "source": [
    "# Step 1. Get the number of students that are in ninth grade at Thomas High School.\n",
    "# These students have no grades. \n",
    "\n",
    "\n",
    "# Get the total student count \n",
    "student_count = school_data_complete_df[\"Student ID\"].count()\n",
    "\n",
    "\n",
    "# Step 2. Subtract the number of students that are in ninth grade at \n",
    "# Thomas High School from the total student count to get the new total student count.\n"
   ]
  },
  {
   "cell_type": "code",
   "execution_count": null,
   "id": "b9c23073",
   "metadata": {},
   "outputs": [],
   "source": [
    "# Calculate the passing rates using the \"clean_student_data\".\n",
    "passing_math_count = school_data_complete_df[(school_data_complete_df[\"math_score\"] >= 70)].count()[\"student_name\"]\n",
    "passing_reading_count = school_data_complete_df[(school_data_complete_df[\"reading_score\"] >= 70)].count()[\"student_name\"]"
   ]
  },
  {
   "cell_type": "code",
   "execution_count": null,
   "id": "f14aea04",
   "metadata": {},
   "outputs": [],
   "source": [
    "# Step 3. Calculate the passing percentages with the new total student count.\n"
   ]
  },
  {
   "cell_type": "code",
   "execution_count": null,
   "id": "425ebcd3",
   "metadata": {},
   "outputs": [],
   "source": [
    "# Calculate the students who passed both reading and math.\n",
    "passing_math_reading = school_data_complete_df[(school_data_complete_df[\"math_score\"] >= 70)\n",
    "                                               & (school_data_complete_df[\"reading_score\"] >= 70)]\n",
    "\n",
    "# Calculate the number of students that passed both reading and math.\n",
    "overall_passing_math_reading_count = passing_math_reading[\"student_name\"].count()\n",
    "\n",
    "\n",
    "# Step 4.Calculate the overall passing percentage with new total student count.\n"
   ]
  },
  {
   "cell_type": "code",
   "execution_count": null,
   "id": "d3589346",
   "metadata": {},
   "outputs": [],
   "source": [
    "# Create a DataFrame\n",
    "district_summary_df = pd.DataFrame(\n",
    "          [{\"Total Schools\": school_count, \n",
    "          \"Total Students\": student_count, \n",
    "          \"Total Budget\": total_budget,\n",
    "          \"Average Math Score\": average_math_score, \n",
    "          \"Average Reading Score\": average_reading_score,\n",
    "          \"% Passing Math\": passing_math_percentage,\n",
    "         \"% Passing Reading\": passing_reading_percentage,\n",
    "        \"% Overall Passing\": overall_passing_percentage}])\n",
    "\n",
    "\n",
    "\n",
    "# Format the \"Total Students\" to have the comma for a thousands separator.\n",
    "district_summary_df[\"Total Students\"] = district_summary_df[\"Total Students\"].map(\"{:,}\".format)\n",
    "# Format the \"Total Budget\" to have the comma for a thousands separator, a decimal separator and a \"$\".\n",
    "district_summary_df[\"Total Budget\"] = district_summary_df[\"Total Budget\"].map(\"${:,.2f}\".format)\n",
    "# Format the columns.\n",
    "district_summary_df[\"Average Math Score\"] = district_summary_df[\"Average Math Score\"].map(\"{:.1f}\".format)\n",
    "district_summary_df[\"Average Reading Score\"] = district_summary_df[\"Average Reading Score\"].map(\"{:.1f}\".format)\n",
    "district_summary_df[\"% Passing Math\"] = district_summary_df[\"% Passing Math\"].map(\"{:.1f}\".format)\n",
    "district_summary_df[\"% Passing Reading\"] = district_summary_df[\"% Passing Reading\"].map(\"{:.1f}\".format)\n",
    "district_summary_df[\"% Overall Passing\"] = district_summary_df[\"% Overall Passing\"].map(\"{:.1f}\".format)\n",
    "\n",
    "# Display the data frame\n",
    "district_summary_df"
   ]
  },
  {
   "cell_type": "markdown",
   "id": "866631f3",
   "metadata": {},
   "source": [
    "##  School Summary"
   ]
  },
  {
   "cell_type": "code",
   "execution_count": null,
   "id": "6ad185d2",
   "metadata": {},
   "outputs": [],
   "source": [
    "# Determine the School Type\n",
    "per_school_types = school_data_df.set_index([\"school_name\"])[\"type\"]\n",
    "\n",
    "# Calculate the total student count.\n",
    "per_school_counts = school_data_complete_df[\"school_name\"].value_counts()\n",
    "\n",
    "# Calculate the total school budget and per capita spending\n",
    "per_school_budget = school_data_complete_df.groupby([\"school_name\"]).mean()[\"budget\"]\n",
    "# Calculate the per capita spending.\n",
    "per_school_capita = per_school_budget / per_school_counts\n",
    "\n",
    "# Calculate the average test scores.\n",
    "per_school_math = school_data_complete_df.groupby([\"school_name\"]).mean()[\"math_score\"]\n",
    "per_school_reading = school_data_complete_df.groupby([\"school_name\"]).mean()[\"reading_score\"]\n",
    "\n",
    "# Calculate the passing scores by creating a filtered DataFrame.\n",
    "per_school_passing_math = school_data_complete_df[(school_data_complete_df[\"math_score\"] >= 70)]\n",
    "per_school_passing_reading = school_data_complete_df[(school_data_complete_df[\"reading_score\"] >= 70)]\n",
    "\n",
    "# Calculate the number of students passing math and passing reading by school.\n",
    "per_school_passing_math = per_school_passing_math.groupby([\"school_name\"]).count()[\"student_name\"]\n",
    "per_school_passing_reading = per_school_passing_reading.groupby([\"school_name\"]).count()[\"student_name\"]\n",
    "\n",
    "# Calculate the percentage of passing math and reading scores per school.\n",
    "per_school_passing_math = per_school_passing_math / per_school_counts * 100\n",
    "per_school_passing_reading = per_school_passing_reading / per_school_counts * 100\n",
    "\n",
    "# Calculate the students who passed both reading and math.\n",
    "per_passing_math_reading = school_data_complete_df[(school_data_complete_df[\"reading_score\"] >= 70)\n",
    "                                               & (school_data_complete_df[\"math_score\"] >= 70)]\n",
    "\n",
    "# Calculate the number of students passing math and passing reading by school.\n",
    "per_passing_math_reading = per_passing_math_reading.groupby([\"school_name\"]).count()[\"student_name\"]\n",
    "\n",
    "# Calculate the percentage of passing math and reading scores per school.\n",
    "per_overall_passing_percentage = per_passing_math_reading / per_school_counts * 100"
   ]
  },
  {
   "cell_type": "code",
   "execution_count": null,
   "id": "4a784ad9",
   "metadata": {},
   "outputs": [],
   "source": [
    "# Create the DataFrame\n",
    "per_school_summary_df = pd.DataFrame({\n",
    "    \"School Type\": per_school_types,\n",
    "    \"Total Students\": per_school_counts,\n",
    "    \"Total School Budget\": per_school_budget,\n",
    "    \"Per Student Budget\": per_school_capita,\n",
    "    \"Average Math Score\": per_school_math,\n",
    "    \"Average Reading Score\": per_school_reading,\n",
    "    \"% Passing Math\": per_school_passing_math,\n",
    "    \"% Passing Reading\": per_school_passing_reading,\n",
    "    \"% Overall Passing\": per_overall_passing_percentage})\n",
    "\n",
    "\n",
    "# per_school_summary_df.head()"
   ]
  },
  {
   "cell_type": "code",
   "execution_count": null,
   "id": "89c6cc4d",
   "metadata": {},
   "outputs": [],
   "source": [
    "# Format the Total School Budget and the Per Student Budget\n",
    "per_school_summary_df[\"Total School Budget\"] = per_school_summary_df[\"Total School Budget\"].map(\"${:,.2f}\".format)\n",
    "per_school_summary_df[\"Per Student Budget\"] = per_school_summary_df[\"Per Student Budget\"].map(\"${:,.2f}\".format)\n",
    "\n",
    "# Display the data frame\n",
    "per_school_summary_df"
   ]
  },
  {
   "cell_type": "code",
   "execution_count": null,
   "id": "4a06eca7",
   "metadata": {},
   "outputs": [],
   "source": [
    "# Step 5.  Get the number of 10th-12th graders from Thomas High School (THS).\n"
   ]
  },
  {
   "cell_type": "code",
   "execution_count": null,
   "id": "a9d53458",
   "metadata": {},
   "outputs": [],
   "source": [
    "# Step 6. Get all the students passing math from THS\n"
   ]
  },
  {
   "cell_type": "code",
   "execution_count": null,
   "id": "2d7d09d9",
   "metadata": {},
   "outputs": [],
   "source": [
    "# Step 7. Get all the students passing reading from THS\n"
   ]
  },
  {
   "cell_type": "code",
   "execution_count": null,
   "id": "beff4c84",
   "metadata": {},
   "outputs": [],
   "source": [
    "# Step 8. Get all the students passing math and reading from THS\n"
   ]
  },
  {
   "cell_type": "code",
   "execution_count": null,
   "id": "d7486bc1",
   "metadata": {},
   "outputs": [],
   "source": [
    "# Step 9. Calculate the percentage of 10th-12th grade students passing math from Thomas High School. \n"
   ]
  },
  {
   "cell_type": "code",
   "execution_count": null,
   "id": "74fa9b08",
   "metadata": {},
   "outputs": [],
   "source": [
    "# Step 10. Calculate the percentage of 10th-12th grade students passing reading from Thomas High School.\n"
   ]
  },
  {
   "cell_type": "code",
   "execution_count": null,
   "id": "2905d816",
   "metadata": {},
   "outputs": [],
   "source": [
    "# Step 11. Calculate the overall passing percentage of 10th-12th grade from Thomas High School. \n",
    "\n"
   ]
  },
  {
   "cell_type": "code",
   "execution_count": null,
   "id": "00b006db",
   "metadata": {},
   "outputs": [],
   "source": [
    "# Step 12. Replace the passing math percent for Thomas High School in the per_school_summary_df.\n"
   ]
  },
  {
   "cell_type": "code",
   "execution_count": null,
   "id": "e21be9e2",
   "metadata": {},
   "outputs": [],
   "source": [
    "# Step 13. Replace the passing reading percentage for Thomas High School in the per_school_summary_df.\n"
   ]
  },
  {
   "cell_type": "code",
   "execution_count": null,
   "id": "526e8a43",
   "metadata": {},
   "outputs": [],
   "source": [
    "# Step 14. Replace the overall passing percentage for Thomas High School in the per_school_summary_df.\n"
   ]
  },
  {
   "cell_type": "code",
   "execution_count": null,
   "id": "92e8f22a",
   "metadata": {},
   "outputs": [],
   "source": [
    "# per_school_summary_df"
   ]
  },
  {
   "cell_type": "markdown",
   "id": "54e76f33",
   "metadata": {},
   "source": [
    "## High and Low Performing Schools "
   ]
  },
  {
   "cell_type": "code",
   "execution_count": null,
   "id": "51e3902b",
   "metadata": {
    "scrolled": true
   },
   "outputs": [],
   "source": [
    "# Sort and show top five schools.\n"
   ]
  },
  {
   "cell_type": "code",
   "execution_count": null,
   "id": "63aa89e6",
   "metadata": {},
   "outputs": [],
   "source": [
    "# Sort and show top five schools.\n"
   ]
  },
  {
   "cell_type": "markdown",
   "id": "6f116df9",
   "metadata": {
    "collapsed": true
   },
   "source": [
    "## Math and Reading Scores by Grade"
   ]
  },
  {
   "cell_type": "code",
   "execution_count": null,
   "id": "f8b65a63",
   "metadata": {},
   "outputs": [],
   "source": [
    "# Create a Series of scores by grade levels using conditionals.\n",
    "\n",
    "\n",
    "# Group each school Series by the school name for the average math score.\n",
    "\n",
    "\n",
    "# Group each school Series by the school name for the average reading score.\n"
   ]
  },
  {
   "cell_type": "code",
   "execution_count": null,
   "id": "5a8f7353",
   "metadata": {},
   "outputs": [],
   "source": [
    "# Combine each Series for average math scores by school into single data frame.\n"
   ]
  },
  {
   "cell_type": "code",
   "execution_count": null,
   "id": "4e059197",
   "metadata": {},
   "outputs": [],
   "source": [
    "# Combine each Series for average reading scores by school into single data frame.\n"
   ]
  },
  {
   "cell_type": "code",
   "execution_count": null,
   "id": "47f9c9b0",
   "metadata": {},
   "outputs": [],
   "source": [
    "# Format each grade column.\n"
   ]
  },
  {
   "cell_type": "code",
   "execution_count": null,
   "id": "2bafb67a",
   "metadata": {},
   "outputs": [],
   "source": [
    "# Remove the index.\n",
    "\n",
    "\n",
    "# Display the data frame\n"
   ]
  },
  {
   "cell_type": "code",
   "execution_count": null,
   "id": "cd9f78c0",
   "metadata": {},
   "outputs": [],
   "source": [
    "## Remove the index.\n",
    "\n",
    "\n",
    "# Display the data frame\n"
   ]
  },
  {
   "cell_type": "markdown",
   "id": "d53daa8e",
   "metadata": {},
   "source": [
    "## Scores by School Spending"
   ]
  },
  {
   "cell_type": "code",
   "execution_count": null,
   "id": "8794e4b0",
   "metadata": {},
   "outputs": [],
   "source": [
    "# Establish the spending bins and group names.\n",
    "\n",
    "\n",
    "# Categorize spending based on the bins.\n"
   ]
  },
  {
   "cell_type": "code",
   "execution_count": null,
   "id": "9f9dc58a",
   "metadata": {},
   "outputs": [],
   "source": [
    "# Calculate averages for the desired columns. \n"
   ]
  },
  {
   "cell_type": "code",
   "execution_count": null,
   "id": "f28ee983",
   "metadata": {},
   "outputs": [],
   "source": [
    "# Create the DataFrame\n"
   ]
  },
  {
   "cell_type": "code",
   "execution_count": null,
   "id": "a7bb4280",
   "metadata": {},
   "outputs": [],
   "source": [
    "# Format the DataFrame \n"
   ]
  },
  {
   "cell_type": "markdown",
   "id": "e13a04c5",
   "metadata": {},
   "source": [
    "## Scores by School Size"
   ]
  },
  {
   "cell_type": "code",
   "execution_count": null,
   "id": "16ee26b3",
   "metadata": {},
   "outputs": [],
   "source": [
    "# Establish the bins.\n",
    "\n",
    "# Categorize spending based on the bins.\n"
   ]
  },
  {
   "cell_type": "code",
   "execution_count": null,
   "id": "6690d247",
   "metadata": {},
   "outputs": [],
   "source": [
    "# Calculate averages for the desired columns. \n"
   ]
  },
  {
   "cell_type": "code",
   "execution_count": null,
   "id": "91ab39cc",
   "metadata": {
    "scrolled": true
   },
   "outputs": [],
   "source": [
    "# Assemble into DataFrame. \n"
   ]
  },
  {
   "cell_type": "code",
   "execution_count": null,
   "id": "6c75f190",
   "metadata": {},
   "outputs": [],
   "source": [
    "# Format the DataFrame  \n"
   ]
  },
  {
   "cell_type": "markdown",
   "id": "e2f497b2",
   "metadata": {},
   "source": [
    "## Scores by School Type"
   ]
  },
  {
   "cell_type": "code",
   "execution_count": null,
   "id": "b987d306",
   "metadata": {},
   "outputs": [],
   "source": [
    "# Calculate averages for the desired columns. \n"
   ]
  },
  {
   "cell_type": "code",
   "execution_count": null,
   "id": "fb386ea1",
   "metadata": {},
   "outputs": [],
   "source": [
    "# Assemble into DataFrame. \n"
   ]
  },
  {
   "cell_type": "code",
   "execution_count": null,
   "id": "96c1a195",
   "metadata": {},
   "outputs": [],
   "source": [
    "# # Format the DataFrame \n"
   ]
  },
  {
   "cell_type": "code",
   "execution_count": null,
   "id": "1b4c9997",
   "metadata": {},
   "outputs": [],
   "source": []
  },
  {
   "cell_type": "code",
   "execution_count": null,
   "id": "e7e3e688",
   "metadata": {},
   "outputs": [],
   "source": [
    "# Dependencies and Setup\n",
    "import pandas as pd\n",
    "\n",
    "# File to Load (Remember to change the path if needed.)\n",
    "school_data_to_load = \"Resources/schools_complete.csv\"\n",
    "student_data_to_load = \"Resources/students_complete.csv\"\n",
    "\n",
    "# Read the School Data and Student Data and store into a Pandas DataFrame\n",
    "school_data_df = pd.read_csv(school_data_to_load)\n",
    "student_data_df = pd.read_csv(student_data_to_load)\n",
    "\n",
    "# Cleaning Student Names and Replacing Substrings in a Python String\n",
    "# Add each prefix and suffix to remove to a list.\n",
    "prefixes_suffixes = [\"Dr. \", \"Mr. \",\"Ms. \", \"Mrs. \", \"Miss \", \" MD\", \" DDS\", \" DVM\", \" PhD\"]\n",
    "\n",
    "# Iterate through the words in the \"prefixes_suffixes\" list and replace them with an empty space, \"\".\n",
    "for word in prefixes_suffixes:\n",
    "    student_data_df[\"student_name\"] = student_data_df[\"student_name\"].str.replace(word,\"\")\n",
    "\n",
    "# Check names.\n",
    "student_data_df.head(10)"
   ]
  },
  {
   "cell_type": "markdown",
   "id": "34b9032b",
   "metadata": {},
   "source": [
    "## Deliverable 1: Replace the reading and math scores.\n",
    "\n",
    "### Replace the 9th grade reading and math scores at Thomas High School with NaN."
   ]
  },
  {
   "cell_type": "code",
   "execution_count": null,
   "id": "73957709",
   "metadata": {},
   "outputs": [],
   "source": [
    "# Install numpy using conda install numpy or pip install numpy. \n",
    "# Step 1. Import numpy as np.\n",
    "import numpy as np"
   ]
  },
  {
   "cell_type": "code",
   "execution_count": null,
   "id": "bf430a82",
   "metadata": {},
   "outputs": [],
   "source": [
    "# Step 2. Use the loc method on the student_data_df to select all the reading scores from the 9th grade at Thomas High School and replace them with NaN.\n",
    "student_data_df.loc[]\n",
    "\n"
   ]
  },
  {
   "cell_type": "code",
   "execution_count": null,
   "id": "e6ac7d86",
   "metadata": {},
   "outputs": [],
   "source": [
    "#  Step 3. Refactor the code in Step 2 to replace the math scores with NaN.\n"
   ]
  },
  {
   "cell_type": "code",
   "execution_count": null,
   "id": "a67db73b",
   "metadata": {},
   "outputs": [],
   "source": [
    "#  Step 4. Check the student data for NaN's. \n",
    "\n"
   ]
  },
  {
   "cell_type": "markdown",
   "id": "053f6870",
   "metadata": {},
   "source": [
    "## Deliverable 2 : Repeat the school district analysis"
   ]
  },
  {
   "cell_type": "markdown",
   "id": "8ddb6987",
   "metadata": {},
   "source": [
    "### District Summary"
   ]
  },
  {
   "cell_type": "code",
   "execution_count": null,
   "id": "75ee9582",
   "metadata": {},
   "outputs": [],
   "source": [
    "# Combine the data into a single dataset\n",
    "school_data_complete_df = pd.merge(student_data_df, school_data_df, how=\"left\", on=[\"school_name\", \"school_name\"])\n",
    "school_data_complete_df.head()"
   ]
  },
  {
   "cell_type": "code",
   "execution_count": null,
   "id": "6a9ceb36",
   "metadata": {},
   "outputs": [],
   "source": [
    "# Calculate the Totals (Schools and Students)\n",
    "school_count = len(school_data_complete_df[\"school_name\"].unique())\n",
    "student_count = school_data_complete_df[\"Student ID\"].count()\n",
    "\n",
    "# Calculate the Total Budget\n",
    "total_budget = school_data_df[\"budget\"].sum()"
   ]
  },
  {
   "cell_type": "code",
   "execution_count": null,
   "id": "4391e395",
   "metadata": {},
   "outputs": [],
   "source": [
    "# Calculate the Average Scores using the \"clean_student_data\".\n",
    "average_reading_score = school_data_complete_df[\"reading_score\"].mean()\n",
    "average_math_score = school_data_complete_df[\"math_score\"].mean()"
   ]
  },
  {
   "cell_type": "code",
   "execution_count": null,
   "id": "34704569",
   "metadata": {},
   "outputs": [],
   "source": [
    "# Step 1. Get the number of students that are in ninth grade at Thomas High School.\n",
    "# These students have no grades. \n",
    "\n",
    "\n",
    "# Get the total student count \n",
    "student_count = school_data_complete_df[\"Student ID\"].count()\n",
    "\n",
    "\n",
    "# Step 2. Subtract the number of students that are in ninth grade at \n",
    "# Thomas High School from the total student count to get the new total student count.\n"
   ]
  },
  {
   "cell_type": "code",
   "execution_count": null,
   "id": "6993fa4e",
   "metadata": {},
   "outputs": [],
   "source": [
    "# Calculate the passing rates using the \"clean_student_data\".\n",
    "passing_math_count = school_data_complete_df[(school_data_complete_df[\"math_score\"] >= 70)].count()[\"student_name\"]\n",
    "passing_reading_count = school_data_complete_df[(school_data_complete_df[\"reading_score\"] >= 70)].count()[\"student_name\"]"
   ]
  },
  {
   "cell_type": "code",
   "execution_count": null,
   "id": "a580aed1",
   "metadata": {},
   "outputs": [],
   "source": [
    "# Step 3. Calculate the passing percentages with the new total student count.\n"
   ]
  },
  {
   "cell_type": "code",
   "execution_count": null,
   "id": "f4952049",
   "metadata": {},
   "outputs": [],
   "source": [
    "# Calculate the students who passed both reading and math.\n",
    "passing_math_reading = school_data_complete_df[(school_data_complete_df[\"math_score\"] >= 70)\n",
    "                                               & (school_data_complete_df[\"reading_score\"] >= 70)]\n",
    "\n",
    "# Calculate the number of students that passed both reading and math.\n",
    "overall_passing_math_reading_count = passing_math_reading[\"student_name\"].count()\n",
    "\n",
    "\n",
    "# Step 4.Calculate the overall passing percentage with new total student count.\n"
   ]
  },
  {
   "cell_type": "code",
   "execution_count": null,
   "id": "37dfbe14",
   "metadata": {},
   "outputs": [],
   "source": [
    "# Create a DataFrame\n",
    "district_summary_df = pd.DataFrame(\n",
    "          [{\"Total Schools\": school_count, \n",
    "          \"Total Students\": student_count, \n",
    "          \"Total Budget\": total_budget,\n",
    "          \"Average Math Score\": average_math_score, \n",
    "          \"Average Reading Score\": average_reading_score,\n",
    "          \"% Passing Math\": passing_math_percentage,\n",
    "         \"% Passing Reading\": passing_reading_percentage,\n",
    "        \"% Overall Passing\": overall_passing_percentage}])\n",
    "\n",
    "\n",
    "\n",
    "# Format the \"Total Students\" to have the comma for a thousands separator.\n",
    "district_summary_df[\"Total Students\"] = district_summary_df[\"Total Students\"].map(\"{:,}\".format)\n",
    "# Format the \"Total Budget\" to have the comma for a thousands separator, a decimal separator and a \"$\".\n",
    "district_summary_df[\"Total Budget\"] = district_summary_df[\"Total Budget\"].map(\"${:,.2f}\".format)\n",
    "# Format the columns.\n",
    "district_summary_df[\"Average Math Score\"] = district_summary_df[\"Average Math Score\"].map(\"{:.1f}\".format)\n",
    "district_summary_df[\"Average Reading Score\"] = district_summary_df[\"Average Reading Score\"].map(\"{:.1f}\".format)\n",
    "district_summary_df[\"% Passing Math\"] = district_summary_df[\"% Passing Math\"].map(\"{:.1f}\".format)\n",
    "district_summary_df[\"% Passing Reading\"] = district_summary_df[\"% Passing Reading\"].map(\"{:.1f}\".format)\n",
    "district_summary_df[\"% Overall Passing\"] = district_summary_df[\"% Overall Passing\"].map(\"{:.1f}\".format)\n",
    "\n",
    "# Display the data frame\n",
    "district_summary_df"
   ]
  },
  {
   "cell_type": "markdown",
   "id": "e21f3b9d",
   "metadata": {},
   "source": [
    "##  School Summary"
   ]
  },
  {
   "cell_type": "code",
   "execution_count": null,
   "id": "e0171f83",
   "metadata": {},
   "outputs": [],
   "source": [
    "# Determine the School Type\n",
    "per_school_types = school_data_df.set_index([\"school_name\"])[\"type\"]\n",
    "\n",
    "# Calculate the total student count.\n",
    "per_school_counts = school_data_complete_df[\"school_name\"].value_counts()\n",
    "\n",
    "# Calculate the total school budget and per capita spending\n",
    "per_school_budget = school_data_complete_df.groupby([\"school_name\"]).mean()[\"budget\"]\n",
    "# Calculate the per capita spending.\n",
    "per_school_capita = per_school_budget / per_school_counts\n",
    "\n",
    "# Calculate the average test scores.\n",
    "per_school_math = school_data_complete_df.groupby([\"school_name\"]).mean()[\"math_score\"]\n",
    "per_school_reading = school_data_complete_df.groupby([\"school_name\"]).mean()[\"reading_score\"]\n",
    "\n",
    "# Calculate the passing scores by creating a filtered DataFrame.\n",
    "per_school_passing_math = school_data_complete_df[(school_data_complete_df[\"math_score\"] >= 70)]\n",
    "per_school_passing_reading = school_data_complete_df[(school_data_complete_df[\"reading_score\"] >= 70)]\n",
    "\n",
    "# Calculate the number of students passing math and passing reading by school.\n",
    "per_school_passing_math = per_school_passing_math.groupby([\"school_name\"]).count()[\"student_name\"]\n",
    "per_school_passing_reading = per_school_passing_reading.groupby([\"school_name\"]).count()[\"student_name\"]\n",
    "\n",
    "# Calculate the percentage of passing math and reading scores per school.\n",
    "per_school_passing_math = per_school_passing_math / per_school_counts * 100\n",
    "per_school_passing_reading = per_school_passing_reading / per_school_counts * 100\n",
    "\n",
    "# Calculate the students who passed both reading and math.\n",
    "per_passing_math_reading = school_data_complete_df[(school_data_complete_df[\"reading_score\"] >= 70)\n",
    "                                               & (school_data_complete_df[\"math_score\"] >= 70)]\n",
    "\n",
    "# Calculate the number of students passing math and passing reading by school.\n",
    "per_passing_math_reading = per_passing_math_reading.groupby([\"school_name\"]).count()[\"student_name\"]\n",
    "\n",
    "# Calculate the percentage of passing math and reading scores per school.\n",
    "per_overall_passing_percentage = per_passing_math_reading / per_school_counts * 100"
   ]
  },
  {
   "cell_type": "code",
   "execution_count": null,
   "id": "699679da",
   "metadata": {},
   "outputs": [],
   "source": [
    "# Create the DataFrame\n",
    "per_school_summary_df = pd.DataFrame({\n",
    "    \"School Type\": per_school_types,\n",
    "    \"Total Students\": per_school_counts,\n",
    "    \"Total School Budget\": per_school_budget,\n",
    "    \"Per Student Budget\": per_school_capita,\n",
    "    \"Average Math Score\": per_school_math,\n",
    "    \"Average Reading Score\": per_school_reading,\n",
    "    \"% Passing Math\": per_school_passing_math,\n",
    "    \"% Passing Reading\": per_school_passing_reading,\n",
    "    \"% Overall Passing\": per_overall_passing_percentage})\n",
    "\n",
    "\n",
    "# per_school_summary_df.head()"
   ]
  },
  {
   "cell_type": "code",
   "execution_count": null,
   "id": "9c716cc8",
   "metadata": {},
   "outputs": [],
   "source": [
    "# Format the Total School Budget and the Per Student Budget\n",
    "per_school_summary_df[\"Total School Budget\"] = per_school_summary_df[\"Total School Budget\"].map(\"${:,.2f}\".format)\n",
    "per_school_summary_df[\"Per Student Budget\"] = per_school_summary_df[\"Per Student Budget\"].map(\"${:,.2f}\".format)\n",
    "\n",
    "# Display the data frame\n",
    "per_school_summary_df"
   ]
  },
  {
   "cell_type": "code",
   "execution_count": null,
   "id": "ce6e13ce",
   "metadata": {},
   "outputs": [],
   "source": [
    "# Step 5.  Get the number of 10th-12th graders from Thomas High School (THS).\n"
   ]
  },
  {
   "cell_type": "code",
   "execution_count": null,
   "id": "27fca870",
   "metadata": {},
   "outputs": [],
   "source": [
    "# Step 6. Get all the students passing math from THS\n"
   ]
  },
  {
   "cell_type": "code",
   "execution_count": null,
   "id": "1db83a2f",
   "metadata": {},
   "outputs": [],
   "source": [
    "# Step 7. Get all the students passing reading from THS\n"
   ]
  },
  {
   "cell_type": "code",
   "execution_count": null,
   "id": "658462e8",
   "metadata": {},
   "outputs": [],
   "source": [
    "# Step 8. Get all the students passing math and reading from THS\n"
   ]
  },
  {
   "cell_type": "code",
   "execution_count": null,
   "id": "562bcdf8",
   "metadata": {},
   "outputs": [],
   "source": [
    "# Step 9. Calculate the percentage of 10th-12th grade students passing math from Thomas High School. \n"
   ]
  },
  {
   "cell_type": "code",
   "execution_count": null,
   "id": "09541392",
   "metadata": {},
   "outputs": [],
   "source": [
    "# Step 10. Calculate the percentage of 10th-12th grade students passing reading from Thomas High School.\n"
   ]
  },
  {
   "cell_type": "code",
   "execution_count": null,
   "id": "bef88e39",
   "metadata": {},
   "outputs": [],
   "source": [
    "# Step 11. Calculate the overall passing percentage of 10th-12th grade from Thomas High School. \n",
    "\n"
   ]
  },
  {
   "cell_type": "code",
   "execution_count": null,
   "id": "d161df2f",
   "metadata": {},
   "outputs": [],
   "source": [
    "# Step 12. Replace the passing math percent for Thomas High School in the per_school_summary_df.\n"
   ]
  },
  {
   "cell_type": "code",
   "execution_count": null,
   "id": "8a9525af",
   "metadata": {},
   "outputs": [],
   "source": [
    "# Step 13. Replace the passing reading percentage for Thomas High School in the per_school_summary_df.\n"
   ]
  },
  {
   "cell_type": "code",
   "execution_count": null,
   "id": "0320acc8",
   "metadata": {},
   "outputs": [],
   "source": [
    "# Step 14. Replace the overall passing percentage for Thomas High School in the per_school_summary_df.\n"
   ]
  },
  {
   "cell_type": "code",
   "execution_count": null,
   "id": "6ea13bea",
   "metadata": {},
   "outputs": [],
   "source": [
    "# per_school_summary_df"
   ]
  },
  {
   "cell_type": "markdown",
   "id": "46b70c9d",
   "metadata": {},
   "source": [
    "## High and Low Performing Schools "
   ]
  },
  {
   "cell_type": "code",
   "execution_count": null,
   "id": "590e83c6",
   "metadata": {
    "scrolled": true
   },
   "outputs": [],
   "source": [
    "# Sort and show top five schools.\n"
   ]
  },
  {
   "cell_type": "code",
   "execution_count": null,
   "id": "c78d1db2",
   "metadata": {},
   "outputs": [],
   "source": [
    "# Sort and show top five schools.\n"
   ]
  },
  {
   "cell_type": "markdown",
   "id": "7b7a2ccd",
   "metadata": {
    "collapsed": true
   },
   "source": [
    "## Math and Reading Scores by Grade"
   ]
  },
  {
   "cell_type": "code",
   "execution_count": null,
   "id": "1ce04576",
   "metadata": {},
   "outputs": [],
   "source": [
    "# Create a Series of scores by grade levels using conditionals.\n",
    "\n",
    "\n",
    "# Group each school Series by the school name for the average math score.\n",
    "\n",
    "\n",
    "# Group each school Series by the school name for the average reading score.\n"
   ]
  },
  {
   "cell_type": "code",
   "execution_count": null,
   "id": "95933ac6",
   "metadata": {},
   "outputs": [],
   "source": [
    "# Combine each Series for average math scores by school into single data frame.\n"
   ]
  },
  {
   "cell_type": "code",
   "execution_count": null,
   "id": "c1d2c728",
   "metadata": {},
   "outputs": [],
   "source": [
    "# Combine each Series for average reading scores by school into single data frame.\n"
   ]
  },
  {
   "cell_type": "code",
   "execution_count": null,
   "id": "1331aca1",
   "metadata": {},
   "outputs": [],
   "source": [
    "# Format each grade column.\n"
   ]
  },
  {
   "cell_type": "code",
   "execution_count": null,
   "id": "56876e0b",
   "metadata": {},
   "outputs": [],
   "source": [
    "# Remove the index.\n",
    "\n",
    "\n",
    "# Display the data frame\n"
   ]
  },
  {
   "cell_type": "code",
   "execution_count": null,
   "id": "2b1bb7a9",
   "metadata": {},
   "outputs": [],
   "source": [
    "## Remove the index.\n",
    "\n",
    "\n",
    "# Display the data frame\n"
   ]
  },
  {
   "cell_type": "markdown",
   "id": "0c4df61f",
   "metadata": {},
   "source": [
    "## Scores by School Spending"
   ]
  },
  {
   "cell_type": "code",
   "execution_count": null,
   "id": "02f76733",
   "metadata": {},
   "outputs": [],
   "source": [
    "# Establish the spending bins and group names.\n",
    "\n",
    "\n",
    "# Categorize spending based on the bins.\n"
   ]
  },
  {
   "cell_type": "code",
   "execution_count": null,
   "id": "d9f52a98",
   "metadata": {},
   "outputs": [],
   "source": [
    "# Calculate averages for the desired columns. \n"
   ]
  },
  {
   "cell_type": "code",
   "execution_count": null,
   "id": "2bf1d24b",
   "metadata": {},
   "outputs": [],
   "source": [
    "# Create the DataFrame\n"
   ]
  },
  {
   "cell_type": "code",
   "execution_count": null,
   "id": "60e5e549",
   "metadata": {},
   "outputs": [],
   "source": [
    "# Format the DataFrame \n"
   ]
  },
  {
   "cell_type": "markdown",
   "id": "1979cb06",
   "metadata": {},
   "source": [
    "## Scores by School Size"
   ]
  },
  {
   "cell_type": "code",
   "execution_count": null,
   "id": "969d601a",
   "metadata": {},
   "outputs": [],
   "source": [
    "# Establish the bins.\n",
    "\n",
    "# Categorize spending based on the bins.\n"
   ]
  },
  {
   "cell_type": "code",
   "execution_count": null,
   "id": "f0fa6973",
   "metadata": {},
   "outputs": [],
   "source": [
    "# Calculate averages for the desired columns. \n"
   ]
  },
  {
   "cell_type": "code",
   "execution_count": null,
   "id": "6cdd23f3",
   "metadata": {
    "scrolled": true
   },
   "outputs": [],
   "source": [
    "# Assemble into DataFrame. \n"
   ]
  },
  {
   "cell_type": "code",
   "execution_count": null,
   "id": "db75e9a1",
   "metadata": {},
   "outputs": [],
   "source": [
    "# Format the DataFrame  \n"
   ]
  },
  {
   "cell_type": "markdown",
   "id": "bee15aad",
   "metadata": {},
   "source": [
    "## Scores by School Type"
   ]
  },
  {
   "cell_type": "code",
   "execution_count": null,
   "id": "87d62163",
   "metadata": {},
   "outputs": [],
   "source": [
    "# Calculate averages for the desired columns. \n"
   ]
  },
  {
   "cell_type": "code",
   "execution_count": null,
   "id": "51334d8e",
   "metadata": {},
   "outputs": [],
   "source": [
    "# Assemble into DataFrame. \n"
   ]
  },
  {
   "cell_type": "code",
   "execution_count": null,
   "id": "6fd08b15",
   "metadata": {},
   "outputs": [],
   "source": [
    "# # Format the DataFrame \n"
   ]
  },
  {
   "cell_type": "code",
   "execution_count": null,
   "id": "a50daec5",
   "metadata": {},
   "outputs": [],
   "source": []
  },
  {
   "cell_type": "code",
   "execution_count": null,
   "id": "e46ef7b9",
   "metadata": {},
   "outputs": [],
   "source": [
    "# Dependencies and Setup\n",
    "import pandas as pd\n",
    "\n",
    "# File to Load (Remember to change the path if needed.)\n",
    "school_data_to_load = \"Resources/schools_complete.csv\"\n",
    "student_data_to_load = \"Resources/students_complete.csv\"\n",
    "\n",
    "# Read the School Data and Student Data and store into a Pandas DataFrame\n",
    "school_data_df = pd.read_csv(school_data_to_load)\n",
    "student_data_df = pd.read_csv(student_data_to_load)\n",
    "\n",
    "# Cleaning Student Names and Replacing Substrings in a Python String\n",
    "# Add each prefix and suffix to remove to a list.\n",
    "prefixes_suffixes = [\"Dr. \", \"Mr. \",\"Ms. \", \"Mrs. \", \"Miss \", \" MD\", \" DDS\", \" DVM\", \" PhD\"]\n",
    "\n",
    "# Iterate through the words in the \"prefixes_suffixes\" list and replace them with an empty space, \"\".\n",
    "for word in prefixes_suffixes:\n",
    "    student_data_df[\"student_name\"] = student_data_df[\"student_name\"].str.replace(word,\"\")\n",
    "\n",
    "# Check names.\n",
    "student_data_df.head(10)"
   ]
  },
  {
   "cell_type": "markdown",
   "id": "db11cf3e",
   "metadata": {},
   "source": [
    "## Deliverable 1: Replace the reading and math scores.\n",
    "\n",
    "### Replace the 9th grade reading and math scores at Thomas High School with NaN."
   ]
  },
  {
   "cell_type": "code",
   "execution_count": null,
   "id": "47013b6b",
   "metadata": {},
   "outputs": [],
   "source": [
    "# Install numpy using conda install numpy or pip install numpy. \n",
    "# Step 1. Import numpy as np.\n",
    "import numpy as np"
   ]
  },
  {
   "cell_type": "code",
   "execution_count": null,
   "id": "8457122c",
   "metadata": {},
   "outputs": [],
   "source": [
    "# Step 2. Use the loc method on the student_data_df to select all the reading scores from the 9th grade at Thomas High School and replace them with NaN.\n",
    "student_data_df.loc[]\n",
    "\n"
   ]
  },
  {
   "cell_type": "code",
   "execution_count": null,
   "id": "db855464",
   "metadata": {},
   "outputs": [],
   "source": [
    "#  Step 3. Refactor the code in Step 2 to replace the math scores with NaN.\n"
   ]
  },
  {
   "cell_type": "code",
   "execution_count": null,
   "id": "e5dd777c",
   "metadata": {},
   "outputs": [],
   "source": [
    "#  Step 4. Check the student data for NaN's. \n",
    "\n"
   ]
  },
  {
   "cell_type": "markdown",
   "id": "888d1de5",
   "metadata": {},
   "source": [
    "## Deliverable 2 : Repeat the school district analysis"
   ]
  },
  {
   "cell_type": "markdown",
   "id": "e7585c4c",
   "metadata": {},
   "source": [
    "### District Summary"
   ]
  },
  {
   "cell_type": "code",
   "execution_count": null,
   "id": "92bcb9c0",
   "metadata": {},
   "outputs": [],
   "source": [
    "# Combine the data into a single dataset\n",
    "school_data_complete_df = pd.merge(student_data_df, school_data_df, how=\"left\", on=[\"school_name\", \"school_name\"])\n",
    "school_data_complete_df.head()"
   ]
  },
  {
   "cell_type": "code",
   "execution_count": null,
   "id": "e99fce5c",
   "metadata": {},
   "outputs": [],
   "source": [
    "# Calculate the Totals (Schools and Students)\n",
    "school_count = len(school_data_complete_df[\"school_name\"].unique())\n",
    "student_count = school_data_complete_df[\"Student ID\"].count()\n",
    "\n",
    "# Calculate the Total Budget\n",
    "total_budget = school_data_df[\"budget\"].sum()"
   ]
  },
  {
   "cell_type": "code",
   "execution_count": null,
   "id": "06916bd3",
   "metadata": {},
   "outputs": [],
   "source": [
    "# Calculate the Average Scores using the \"clean_student_data\".\n",
    "average_reading_score = school_data_complete_df[\"reading_score\"].mean()\n",
    "average_math_score = school_data_complete_df[\"math_score\"].mean()"
   ]
  },
  {
   "cell_type": "code",
   "execution_count": null,
   "id": "41ba69c6",
   "metadata": {},
   "outputs": [],
   "source": [
    "# Step 1. Get the number of students that are in ninth grade at Thomas High School.\n",
    "# These students have no grades. \n",
    "\n",
    "\n",
    "# Get the total student count \n",
    "student_count = school_data_complete_df[\"Student ID\"].count()\n",
    "\n",
    "\n",
    "# Step 2. Subtract the number of students that are in ninth grade at \n",
    "# Thomas High School from the total student count to get the new total student count.\n"
   ]
  },
  {
   "cell_type": "code",
   "execution_count": null,
   "id": "be32be5b",
   "metadata": {},
   "outputs": [],
   "source": [
    "# Calculate the passing rates using the \"clean_student_data\".\n",
    "passing_math_count = school_data_complete_df[(school_data_complete_df[\"math_score\"] >= 70)].count()[\"student_name\"]\n",
    "passing_reading_count = school_data_complete_df[(school_data_complete_df[\"reading_score\"] >= 70)].count()[\"student_name\"]"
   ]
  },
  {
   "cell_type": "code",
   "execution_count": null,
   "id": "d3ba83c4",
   "metadata": {},
   "outputs": [],
   "source": [
    "# Step 3. Calculate the passing percentages with the new total student count.\n"
   ]
  },
  {
   "cell_type": "code",
   "execution_count": null,
   "id": "ac0e7a2b",
   "metadata": {},
   "outputs": [],
   "source": [
    "# Calculate the students who passed both reading and math.\n",
    "passing_math_reading = school_data_complete_df[(school_data_complete_df[\"math_score\"] >= 70)\n",
    "                                               & (school_data_complete_df[\"reading_score\"] >= 70)]\n",
    "\n",
    "# Calculate the number of students that passed both reading and math.\n",
    "overall_passing_math_reading_count = passing_math_reading[\"student_name\"].count()\n",
    "\n",
    "\n",
    "# Step 4.Calculate the overall passing percentage with new total student count.\n"
   ]
  },
  {
   "cell_type": "code",
   "execution_count": null,
   "id": "4c69cfc3",
   "metadata": {},
   "outputs": [],
   "source": [
    "# Create a DataFrame\n",
    "district_summary_df = pd.DataFrame(\n",
    "          [{\"Total Schools\": school_count, \n",
    "          \"Total Students\": student_count, \n",
    "          \"Total Budget\": total_budget,\n",
    "          \"Average Math Score\": average_math_score, \n",
    "          \"Average Reading Score\": average_reading_score,\n",
    "          \"% Passing Math\": passing_math_percentage,\n",
    "         \"% Passing Reading\": passing_reading_percentage,\n",
    "        \"% Overall Passing\": overall_passing_percentage}])\n",
    "\n",
    "\n",
    "\n",
    "# Format the \"Total Students\" to have the comma for a thousands separator.\n",
    "district_summary_df[\"Total Students\"] = district_summary_df[\"Total Students\"].map(\"{:,}\".format)\n",
    "# Format the \"Total Budget\" to have the comma for a thousands separator, a decimal separator and a \"$\".\n",
    "district_summary_df[\"Total Budget\"] = district_summary_df[\"Total Budget\"].map(\"${:,.2f}\".format)\n",
    "# Format the columns.\n",
    "district_summary_df[\"Average Math Score\"] = district_summary_df[\"Average Math Score\"].map(\"{:.1f}\".format)\n",
    "district_summary_df[\"Average Reading Score\"] = district_summary_df[\"Average Reading Score\"].map(\"{:.1f}\".format)\n",
    "district_summary_df[\"% Passing Math\"] = district_summary_df[\"% Passing Math\"].map(\"{:.1f}\".format)\n",
    "district_summary_df[\"% Passing Reading\"] = district_summary_df[\"% Passing Reading\"].map(\"{:.1f}\".format)\n",
    "district_summary_df[\"% Overall Passing\"] = district_summary_df[\"% Overall Passing\"].map(\"{:.1f}\".format)\n",
    "\n",
    "# Display the data frame\n",
    "district_summary_df"
   ]
  },
  {
   "cell_type": "markdown",
   "id": "85dc6dd3",
   "metadata": {},
   "source": [
    "##  School Summary"
   ]
  },
  {
   "cell_type": "code",
   "execution_count": null,
   "id": "67540baf",
   "metadata": {},
   "outputs": [],
   "source": [
    "# Determine the School Type\n",
    "per_school_types = school_data_df.set_index([\"school_name\"])[\"type\"]\n",
    "\n",
    "# Calculate the total student count.\n",
    "per_school_counts = school_data_complete_df[\"school_name\"].value_counts()\n",
    "\n",
    "# Calculate the total school budget and per capita spending\n",
    "per_school_budget = school_data_complete_df.groupby([\"school_name\"]).mean()[\"budget\"]\n",
    "# Calculate the per capita spending.\n",
    "per_school_capita = per_school_budget / per_school_counts\n",
    "\n",
    "# Calculate the average test scores.\n",
    "per_school_math = school_data_complete_df.groupby([\"school_name\"]).mean()[\"math_score\"]\n",
    "per_school_reading = school_data_complete_df.groupby([\"school_name\"]).mean()[\"reading_score\"]\n",
    "\n",
    "# Calculate the passing scores by creating a filtered DataFrame.\n",
    "per_school_passing_math = school_data_complete_df[(school_data_complete_df[\"math_score\"] >= 70)]\n",
    "per_school_passing_reading = school_data_complete_df[(school_data_complete_df[\"reading_score\"] >= 70)]\n",
    "\n",
    "# Calculate the number of students passing math and passing reading by school.\n",
    "per_school_passing_math = per_school_passing_math.groupby([\"school_name\"]).count()[\"student_name\"]\n",
    "per_school_passing_reading = per_school_passing_reading.groupby([\"school_name\"]).count()[\"student_name\"]\n",
    "\n",
    "# Calculate the percentage of passing math and reading scores per school.\n",
    "per_school_passing_math = per_school_passing_math / per_school_counts * 100\n",
    "per_school_passing_reading = per_school_passing_reading / per_school_counts * 100\n",
    "\n",
    "# Calculate the students who passed both reading and math.\n",
    "per_passing_math_reading = school_data_complete_df[(school_data_complete_df[\"reading_score\"] >= 70)\n",
    "                                               & (school_data_complete_df[\"math_score\"] >= 70)]\n",
    "\n",
    "# Calculate the number of students passing math and passing reading by school.\n",
    "per_passing_math_reading = per_passing_math_reading.groupby([\"school_name\"]).count()[\"student_name\"]\n",
    "\n",
    "# Calculate the percentage of passing math and reading scores per school.\n",
    "per_overall_passing_percentage = per_passing_math_reading / per_school_counts * 100"
   ]
  },
  {
   "cell_type": "code",
   "execution_count": null,
   "id": "0411ba44",
   "metadata": {},
   "outputs": [],
   "source": [
    "# Create the DataFrame\n",
    "per_school_summary_df = pd.DataFrame({\n",
    "    \"School Type\": per_school_types,\n",
    "    \"Total Students\": per_school_counts,\n",
    "    \"Total School Budget\": per_school_budget,\n",
    "    \"Per Student Budget\": per_school_capita,\n",
    "    \"Average Math Score\": per_school_math,\n",
    "    \"Average Reading Score\": per_school_reading,\n",
    "    \"% Passing Math\": per_school_passing_math,\n",
    "    \"% Passing Reading\": per_school_passing_reading,\n",
    "    \"% Overall Passing\": per_overall_passing_percentage})\n",
    "\n",
    "\n",
    "# per_school_summary_df.head()"
   ]
  },
  {
   "cell_type": "code",
   "execution_count": null,
   "id": "6073dd8d",
   "metadata": {},
   "outputs": [],
   "source": [
    "# Format the Total School Budget and the Per Student Budget\n",
    "per_school_summary_df[\"Total School Budget\"] = per_school_summary_df[\"Total School Budget\"].map(\"${:,.2f}\".format)\n",
    "per_school_summary_df[\"Per Student Budget\"] = per_school_summary_df[\"Per Student Budget\"].map(\"${:,.2f}\".format)\n",
    "\n",
    "# Display the data frame\n",
    "per_school_summary_df"
   ]
  },
  {
   "cell_type": "code",
   "execution_count": null,
   "id": "a8479122",
   "metadata": {},
   "outputs": [],
   "source": [
    "# Step 5.  Get the number of 10th-12th graders from Thomas High School (THS).\n"
   ]
  },
  {
   "cell_type": "code",
   "execution_count": null,
   "id": "baffd426",
   "metadata": {},
   "outputs": [],
   "source": [
    "# Step 6. Get all the students passing math from THS\n"
   ]
  },
  {
   "cell_type": "code",
   "execution_count": null,
   "id": "be379feb",
   "metadata": {},
   "outputs": [],
   "source": [
    "# Step 7. Get all the students passing reading from THS\n"
   ]
  },
  {
   "cell_type": "code",
   "execution_count": null,
   "id": "e21ac543",
   "metadata": {},
   "outputs": [],
   "source": [
    "# Step 8. Get all the students passing math and reading from THS\n"
   ]
  },
  {
   "cell_type": "code",
   "execution_count": null,
   "id": "e4fdc760",
   "metadata": {},
   "outputs": [],
   "source": [
    "# Step 9. Calculate the percentage of 10th-12th grade students passing math from Thomas High School. \n"
   ]
  },
  {
   "cell_type": "code",
   "execution_count": null,
   "id": "443eb4e1",
   "metadata": {},
   "outputs": [],
   "source": [
    "# Step 10. Calculate the percentage of 10th-12th grade students passing reading from Thomas High School.\n"
   ]
  },
  {
   "cell_type": "code",
   "execution_count": null,
   "id": "cbc414e2",
   "metadata": {},
   "outputs": [],
   "source": [
    "# Step 11. Calculate the overall passing percentage of 10th-12th grade from Thomas High School. \n",
    "\n"
   ]
  },
  {
   "cell_type": "code",
   "execution_count": null,
   "id": "5f7cbc19",
   "metadata": {},
   "outputs": [],
   "source": [
    "# Step 12. Replace the passing math percent for Thomas High School in the per_school_summary_df.\n"
   ]
  },
  {
   "cell_type": "code",
   "execution_count": null,
   "id": "14dc2983",
   "metadata": {},
   "outputs": [],
   "source": [
    "# Step 13. Replace the passing reading percentage for Thomas High School in the per_school_summary_df.\n"
   ]
  },
  {
   "cell_type": "code",
   "execution_count": null,
   "id": "f94c36a7",
   "metadata": {},
   "outputs": [],
   "source": [
    "# Step 14. Replace the overall passing percentage for Thomas High School in the per_school_summary_df.\n"
   ]
  },
  {
   "cell_type": "code",
   "execution_count": null,
   "id": "0813654a",
   "metadata": {},
   "outputs": [],
   "source": [
    "# per_school_summary_df"
   ]
  },
  {
   "cell_type": "markdown",
   "id": "3fab56eb",
   "metadata": {},
   "source": [
    "## High and Low Performing Schools "
   ]
  },
  {
   "cell_type": "code",
   "execution_count": null,
   "id": "2c12b5a6",
   "metadata": {
    "scrolled": true
   },
   "outputs": [],
   "source": [
    "# Sort and show top five schools.\n"
   ]
  },
  {
   "cell_type": "code",
   "execution_count": null,
   "id": "e7d0dbd1",
   "metadata": {},
   "outputs": [],
   "source": [
    "# Sort and show top five schools.\n"
   ]
  },
  {
   "cell_type": "markdown",
   "id": "e767be35",
   "metadata": {
    "collapsed": true
   },
   "source": [
    "## Math and Reading Scores by Grade"
   ]
  },
  {
   "cell_type": "code",
   "execution_count": null,
   "id": "cf80b8d2",
   "metadata": {},
   "outputs": [],
   "source": [
    "# Create a Series of scores by grade levels using conditionals.\n",
    "\n",
    "\n",
    "# Group each school Series by the school name for the average math score.\n",
    "\n",
    "\n",
    "# Group each school Series by the school name for the average reading score.\n"
   ]
  },
  {
   "cell_type": "code",
   "execution_count": null,
   "id": "0524e61b",
   "metadata": {},
   "outputs": [],
   "source": [
    "# Combine each Series for average math scores by school into single data frame.\n"
   ]
  },
  {
   "cell_type": "code",
   "execution_count": null,
   "id": "72689cfc",
   "metadata": {},
   "outputs": [],
   "source": [
    "# Combine each Series for average reading scores by school into single data frame.\n"
   ]
  },
  {
   "cell_type": "code",
   "execution_count": null,
   "id": "f65b5286",
   "metadata": {},
   "outputs": [],
   "source": [
    "# Format each grade column.\n"
   ]
  },
  {
   "cell_type": "code",
   "execution_count": null,
   "id": "5c6eec92",
   "metadata": {},
   "outputs": [],
   "source": [
    "# Remove the index.\n",
    "\n",
    "\n",
    "# Display the data frame\n"
   ]
  },
  {
   "cell_type": "code",
   "execution_count": null,
   "id": "c84d047f",
   "metadata": {},
   "outputs": [],
   "source": [
    "## Remove the index.\n",
    "\n",
    "\n",
    "# Display the data frame\n"
   ]
  },
  {
   "cell_type": "markdown",
   "id": "c5624c19",
   "metadata": {},
   "source": [
    "## Scores by School Spending"
   ]
  },
  {
   "cell_type": "code",
   "execution_count": null,
   "id": "c0c6c8f6",
   "metadata": {},
   "outputs": [],
   "source": [
    "# Establish the spending bins and group names.\n",
    "\n",
    "\n",
    "# Categorize spending based on the bins.\n"
   ]
  },
  {
   "cell_type": "code",
   "execution_count": null,
   "id": "3becdda4",
   "metadata": {},
   "outputs": [],
   "source": [
    "# Calculate averages for the desired columns. \n"
   ]
  },
  {
   "cell_type": "code",
   "execution_count": null,
   "id": "14811f38",
   "metadata": {},
   "outputs": [],
   "source": [
    "# Create the DataFrame\n"
   ]
  },
  {
   "cell_type": "code",
   "execution_count": null,
   "id": "eddf8fe1",
   "metadata": {},
   "outputs": [],
   "source": [
    "# Format the DataFrame \n"
   ]
  },
  {
   "cell_type": "markdown",
   "id": "7aedf95b",
   "metadata": {},
   "source": [
    "## Scores by School Size"
   ]
  },
  {
   "cell_type": "code",
   "execution_count": null,
   "id": "69dd76be",
   "metadata": {},
   "outputs": [],
   "source": [
    "# Establish the bins.\n",
    "\n",
    "# Categorize spending based on the bins.\n"
   ]
  },
  {
   "cell_type": "code",
   "execution_count": null,
   "id": "24574774",
   "metadata": {},
   "outputs": [],
   "source": [
    "# Calculate averages for the desired columns. \n"
   ]
  },
  {
   "cell_type": "code",
   "execution_count": null,
   "id": "8f86a1b6",
   "metadata": {
    "scrolled": true
   },
   "outputs": [],
   "source": [
    "# Assemble into DataFrame. \n"
   ]
  },
  {
   "cell_type": "code",
   "execution_count": null,
   "id": "56853f2a",
   "metadata": {},
   "outputs": [],
   "source": [
    "# Format the DataFrame  \n"
   ]
  },
  {
   "cell_type": "markdown",
   "id": "3939a293",
   "metadata": {},
   "source": [
    "## Scores by School Type"
   ]
  },
  {
   "cell_type": "code",
   "execution_count": null,
   "id": "a8eae123",
   "metadata": {},
   "outputs": [],
   "source": [
    "# Calculate averages for the desired columns. \n"
   ]
  },
  {
   "cell_type": "code",
   "execution_count": null,
   "id": "daaba0aa",
   "metadata": {},
   "outputs": [],
   "source": [
    "# Assemble into DataFrame. \n"
   ]
  },
  {
   "cell_type": "code",
   "execution_count": null,
   "id": "5155b2f4",
   "metadata": {},
   "outputs": [],
   "source": [
    "# # Format the DataFrame \n"
   ]
  },
  {
   "cell_type": "code",
   "execution_count": null,
   "id": "7a983fdb",
   "metadata": {},
   "outputs": [],
   "source": [
    "# Add the Pandas dependency.\n",
    "import pandas as pd"
   ]
  },
  {
   "cell_type": "code",
   "execution_count": null,
   "id": "fbf55416",
   "metadata": {},
   "outputs": [],
   "source": [
    "# Files to load\n",
    "school_data_to_load = \"Resources/schools_complete.csv\"\n",
    "student_data_to_load = \"Resources/students_complete.csv\""
   ]
  },
  {
   "cell_type": "code",
   "execution_count": null,
   "id": "96e87121",
   "metadata": {},
   "outputs": [],
   "source": [
    "# Read the school data file and store it in a Pandas DataFrame.\n",
    "school_data_df = pd.read_csv(school_data_to_load)\n",
    "school_data_df"
   ]
  },
  {
   "cell_type": "code",
   "execution_count": null,
   "id": "61dc2aca",
   "metadata": {},
   "outputs": [],
   "source": [
    "# Read the student data file and store it in a Pandas DataFrame.\n",
    "student_data_df = pd.read_csv(student_data_to_load)\n",
    "student_data_df.head()"
   ]
  },
  {
   "cell_type": "code",
   "execution_count": null,
   "id": "5ac9a0ec",
   "metadata": {},
   "outputs": [],
   "source": [
    "# Determine if there are any missing values in the school data.\n",
    "school_data_df.count()"
   ]
  },
  {
   "cell_type": "code",
   "execution_count": null,
   "id": "78c7f86f",
   "metadata": {},
   "outputs": [],
   "source": [
    "# Determine if there are any missing values in the student data.\n",
    "student_data_df.count()"
   ]
  },
  {
   "cell_type": "code",
   "execution_count": null,
   "id": "66e4c0f8",
   "metadata": {},
   "outputs": [],
   "source": [
    "# Determine if there are any missing values in the school data.\n",
    "school_data_df.isnull()"
   ]
  },
  {
   "cell_type": "code",
   "execution_count": null,
   "id": "37e22d59",
   "metadata": {},
   "outputs": [],
   "source": [
    "# Determine if there are any missing values in the student data.\n",
    "student_data_df.isnull()"
   ]
  },
  {
   "cell_type": "code",
   "execution_count": null,
   "id": "5cf4ecfb",
   "metadata": {},
   "outputs": [],
   "source": [
    "# Determine if there are any missing values in the student data.\n",
    "student_data_df.isnull().sum()"
   ]
  },
  {
   "cell_type": "code",
   "execution_count": null,
   "id": "fcc9ceb2",
   "metadata": {},
   "outputs": [],
   "source": [
    "# Determine if there are not any missing values in the school data.\n",
    "school_data_df.notnull()"
   ]
  },
  {
   "cell_type": "code",
   "execution_count": null,
   "id": "6459d3ee",
   "metadata": {},
   "outputs": [],
   "source": [
    "# Determine if there are not any missing values in the student data.\n",
    "student_data_df.notnull().sum()"
   ]
  },
  {
   "cell_type": "code",
   "execution_count": null,
   "id": "adb981ef",
   "metadata": {},
   "outputs": [],
   "source": [
    "# Determine data types for the school DataFrame.\n",
    "school_data_df.dtypes"
   ]
  },
  {
   "cell_type": "code",
   "execution_count": null,
   "id": "4c5dc6a2",
   "metadata": {},
   "outputs": [],
   "source": [
    "# Determine data types for the student DataFrame.\n",
    "student_data_df.dtypes"
   ]
  },
  {
   "cell_type": "code",
   "execution_count": null,
   "id": "4cb5c76b",
   "metadata": {},
   "outputs": [],
   "source": [
    "# Add each prefix and suffix to remove to a list.\n",
    "prefixes_suffixes = [\"Dr. \", \"Mr. \",\"Ms. \", \"Mrs. \", \"Miss \", \" MD\", \" DDS\", \" DVM\", \" PhD\"]\n",
    "# Iterate through the words in the \"prefixes_suffixes\" list and replace them with an empty space, \"\".\n",
    "for word in prefixes_suffixes:\n",
    "    student_data_df[\"student_name\"] = student_data_df[\"student_name\"].str.replace(word,\"\")"
   ]
  },
  {
   "cell_type": "code",
   "execution_count": null,
   "id": "122e5fc1",
   "metadata": {},
   "outputs": [],
   "source": [
    "student_data_df"
   ]
  },
  {
   "cell_type": "code",
   "execution_count": null,
   "id": "86e55dc2",
   "metadata": {},
   "outputs": [],
   "source": [
    "# Combine the data into a single dataset.\n",
    "school_data_complete_df = pd.merge(student_data_df, school_data_df, on=[\"school_name\", \"school_name\"])\n",
    "school_data_complete_df.head()"
   ]
  },
  {
   "cell_type": "code",
   "execution_count": null,
   "id": "9ef529a0",
   "metadata": {},
   "outputs": [],
   "source": [
    "# Get the total number of students.\n",
    "student_count = school_data_complete_df[\"Student ID\"].count()\n",
    "student_count"
   ]
  },
  {
   "cell_type": "code",
   "execution_count": null,
   "id": "5f46c38d",
   "metadata": {},
   "outputs": [],
   "source": [
    "# Calculate the total number of schools.\n",
    "school_count = school_data_df[\"school_name\"].count()\n",
    "school_count"
   ]
  },
  {
   "cell_type": "code",
   "execution_count": null,
   "id": "2893f5e2",
   "metadata": {},
   "outputs": [],
   "source": [
    "# Calculate the total number of schools\n",
    "school_count_2 = school_data_complete_df[\"school_name\"].unique()\n",
    "school_count_2"
   ]
  },
  {
   "cell_type": "code",
   "execution_count": null,
   "id": "f49c79ec",
   "metadata": {},
   "outputs": [],
   "source": [
    "# Calculate the total budget.\n",
    "total_budget = school_data_df[\"budget\"].sum()\n",
    "total_budget"
   ]
  },
  {
   "cell_type": "code",
   "execution_count": null,
   "id": "f6581173",
   "metadata": {},
   "outputs": [],
   "source": [
    "# Calculate the average reading score.\n",
    "average_reading_score = school_data_complete_df[\"reading_score\"].mean()\n",
    "average_reading_score"
   ]
  },
  {
   "cell_type": "code",
   "execution_count": null,
   "id": "e940bd95",
   "metadata": {},
   "outputs": [],
   "source": [
    "# Calculate the average math score.\n",
    "average_math_score = school_data_complete_df[\"math_score\"].mean()\n",
    "average_math_score"
   ]
  },
  {
   "cell_type": "code",
   "execution_count": null,
   "id": "eed95da6",
   "metadata": {},
   "outputs": [],
   "source": [
    "passing_math = school_data_complete_df[\"math_score\"] >= 70\n",
    "passing_reading = school_data_complete_df[\"reading_score\"] >= 70"
   ]
  },
  {
   "cell_type": "code",
   "execution_count": null,
   "id": "8293cc6e",
   "metadata": {},
   "outputs": [],
   "source": [
    "# Get all the students who are passing math in a new DataFrame.\n",
    "passing_math = school_data_complete_df[school_data_complete_df[\"math_score\"] >= 70]\n",
    "passing_math.head()"
   ]
  },
  {
   "cell_type": "code",
   "execution_count": null,
   "id": "30d59f1b",
   "metadata": {},
   "outputs": [],
   "source": [
    "# Get all the students that are passing reading in a new DataFrame.\n",
    "passing_reading = school_data_complete_df[school_data_complete_df[\"reading_score\"] >= 70]"
   ]
  },
  {
   "cell_type": "code",
   "execution_count": null,
   "id": "0f8b48a1",
   "metadata": {},
   "outputs": [],
   "source": [
    "# Calculate the number of students passing math.\n",
    "passing_math_count = passing_math[\"student_name\"].count()\n",
    "print(passing_math_count)\n",
    "# Calculate the number of students passing reading.\n",
    "passing_reading_count = passing_reading[\"student_name\"].count()\n",
    "print(passing_reading_count)"
   ]
  },
  {
   "cell_type": "code",
   "execution_count": null,
   "id": "c75ab306",
   "metadata": {},
   "outputs": [],
   "source": [
    "# Calculate the percent that passed math.\n",
    "passing_math_percentage = passing_math_count / float(student_count) * 100\n",
    "print(passing_math_percentage)\n",
    "# Calculate the percent that passed reading.\n",
    "passing_reading_percentage = passing_reading_count / float(student_count) * 100\n",
    "print(passing_reading_percentage)"
   ]
  },
  {
   "cell_type": "code",
   "execution_count": null,
   "id": "46f497c2",
   "metadata": {},
   "outputs": [],
   "source": [
    "# Calculate the students who passed both math and reading.\n",
    "passing_math_reading = school_data_complete_df[(school_data_complete_df[\"math_score\"] >= 70) & (school_data_complete_df[\"reading_score\"] >= 70)]\n",
    "\n",
    "passing_math_reading.head()"
   ]
  },
  {
   "cell_type": "code",
   "execution_count": null,
   "id": "304956b8",
   "metadata": {},
   "outputs": [],
   "source": [
    "# Calculate the number of students who passed both math and reading.\n",
    "overall_passing_math_reading_count = passing_math_reading[\"student_name\"].count()\n",
    "overall_passing_math_reading_count"
   ]
  },
  {
   "cell_type": "code",
   "execution_count": null,
   "id": "a3974fdd",
   "metadata": {},
   "outputs": [],
   "source": [
    "# Calculate the overall passing percentage.\n",
    "overall_passing_percentage = overall_passing_math_reading_count / student_count * 100\n",
    "overall_passing_percentage"
   ]
  },
  {
   "cell_type": "code",
   "execution_count": null,
   "id": "ad7d8965",
   "metadata": {},
   "outputs": [],
   "source": [
    "# Adding a list of values with keys to create a new DataFrame.\n",
    "district_summary_df = pd.DataFrame(\n",
    "          [{\"Total Schools\": school_count,\n",
    "          \"Total Students\": student_count,\n",
    "          \"Total Budget\": total_budget,\n",
    "          \"Average Math Score\": average_math_score,\n",
    "          \"Average Reading Score\": average_reading_score,\n",
    "          \"% Passing Math\": passing_math_percentage,\n",
    "         \"% Passing Reading\": passing_reading_percentage,\n",
    "        \"% Overall Passing\": overall_passing_percentage}])\n",
    "district_summary_df"
   ]
  },
  {
   "cell_type": "code",
   "execution_count": null,
   "id": "27420732",
   "metadata": {},
   "outputs": [],
   "source": [
    "# Define a function that calculates the percentage of students that passed both \n",
    "# math and reading and returns the passing percentage when the function is called.\n",
    "\n",
    "def passing_math_percent(pass_math_count, student_count):\n",
    "    return pass_math_count / float(student_count) * 100"
   ]
  },
  {
   "cell_type": "code",
   "execution_count": null,
   "id": "9c713d62",
   "metadata": {},
   "outputs": [],
   "source": [
    "passing_math_count = 29370\n",
    "total_student_count = 39170"
   ]
  },
  {
   "cell_type": "code",
   "execution_count": null,
   "id": "faaf104f",
   "metadata": {},
   "outputs": [],
   "source": [
    "# Call the function.\n",
    "passing_math_percent(passing_math_count, total_student_count)"
   ]
  },
  {
   "cell_type": "code",
   "execution_count": null,
   "id": "64dd8095",
   "metadata": {},
   "outputs": [],
   "source": [
    "# Format the \"Total Students\" to have the comma for a thousands separator.\n",
    "district_summary_df[\"Total Students\"] = district_summary_df[\"Total Students\"].map(\"{:,}\".format)\n",
    "\n",
    "district_summary_df[\"Total Students\"]"
   ]
  },
  {
   "cell_type": "code",
   "execution_count": null,
   "id": "625d65dc",
   "metadata": {},
   "outputs": [],
   "source": [
    "# Format \"Total Budget\" to have the comma for a thousands separator, a decimal separator, and a \"$\".\n",
    "\n",
    "district_summary_df[\"Total Budget\"] = district_summary_df[\"Total Budget\"].map(\"${:,.2f}\".format)\n",
    "\n",
    "district_summary_df[\"Total Budget\"]"
   ]
  },
  {
   "cell_type": "code",
   "execution_count": null,
   "id": "3cbe4487",
   "metadata": {},
   "outputs": [],
   "source": [
    "# Format the columns.\n",
    "district_summary_df[\"Average Math Score\"] = district_summary_df[\"Average Math Score\"].map(\"{:.1f}\".format)\n",
    "\n",
    "district_summary_df[\"Average Reading Score\"] = district_summary_df[\"Average Reading Score\"].map(\"{:.1f}\".format)\n",
    "\n",
    "district_summary_df[\"% Passing Math\"] = district_summary_df[\"% Passing Math\"].map(\"{:.0f}\".format)\n",
    "\n",
    "district_summary_df[\"% Passing Reading\"] = district_summary_df[\"% Passing Reading\"].map(\"{:.0f}\".format)\n",
    "\n",
    "district_summary_df[\"% Overall Passing\"] = district_summary_df[\"% Overall Passing\"].map(\"{:.0f}\".format)\n",
    "\n",
    "district_summary_df"
   ]
  },
  {
   "cell_type": "code",
   "execution_count": null,
   "id": "96b4ff61",
   "metadata": {},
   "outputs": [],
   "source": [
    "# Reorder the columns in the order you want them to appear.\n",
    "new_column_order = [\"Total Schools\", \"Total Students\", \"Total Budget\",\"Average Math Score\", \"Average Reading Score\", \"% Passing Math\", \"% Passing Reading\", \"% Overall Passing\"]\n",
    "\n",
    "# Assign district summary df the new column order.\n",
    "district_summary_df = district_summary_df[new_column_order]\n",
    "district_summary_df"
   ]
  },
  {
   "cell_type": "code",
   "execution_count": null,
   "id": "9c043980",
   "metadata": {},
   "outputs": [],
   "source": [
    "# Determine the school type.\n",
    "per_school_types = school_data_df.set_index([\"school_name\"])[\"type\"]\n",
    "per_school_types"
   ]
  },
  {
   "cell_type": "code",
   "execution_count": null,
   "id": "5cce387d",
   "metadata": {},
   "outputs": [],
   "source": [
    "# Add the per_school_types into a DataFrame for testing.\n",
    "df = pd.DataFrame(per_school_types)\n",
    "df"
   ]
  },
  {
   "cell_type": "code",
   "execution_count": null,
   "id": "eb7eae02",
   "metadata": {},
   "outputs": [],
   "source": [
    "# Calculate the total student count.\n",
    "per_school_counts = school_data_df[\"size\"]\n",
    "per_school_counts"
   ]
  },
  {
   "cell_type": "code",
   "execution_count": null,
   "id": "32fb7a12",
   "metadata": {},
   "outputs": [],
   "source": [
    "# Calculate the total student count.\n",
    "per_school_counts = school_data_df.set_index([\"school_name\"])[\"size\"]\n",
    "per_school_counts"
   ]
  },
  {
   "cell_type": "code",
   "execution_count": null,
   "id": "f02eb140",
   "metadata": {},
   "outputs": [],
   "source": [
    "# Calculate the total student count.\n",
    "per_school_counts = school_data_complete_df[\"school_name\"].value_counts()\n",
    "per_school_counts"
   ]
  },
  {
   "cell_type": "code",
   "execution_count": null,
   "id": "19615fbb",
   "metadata": {},
   "outputs": [],
   "source": [
    "# Calculate the total school budget.\n",
    "per_school_budget = school_data_df.set_index([\"school_name\"])[\"budget\"]\n",
    "per_school_budget"
   ]
  },
  {
   "cell_type": "code",
   "execution_count": null,
   "id": "9c3333a9",
   "metadata": {},
   "outputs": [],
   "source": [
    "# Calculate the per capita spending.\n",
    "per_school_capita = per_school_budget / per_school_counts\n",
    "per_school_capita"
   ]
  },
  {
   "cell_type": "code",
   "execution_count": null,
   "id": "89b313eb",
   "metadata": {},
   "outputs": [],
   "source": [
    "# Calculate the math scores.\n",
    "student_school_math = student_data_df.set_index([\"school_name\"])[\"math_score\"]\n",
    "student_school_math"
   ]
  },
  {
   "cell_type": "code",
   "execution_count": null,
   "id": "c83bf475",
   "metadata": {},
   "outputs": [],
   "source": [
    "# Calculate the average math scores.\n",
    "per_school_averages = school_data_complete_df.groupby([\"school_name\"]).mean()\n",
    "per_school_averages"
   ]
  },
  {
   "cell_type": "code",
   "execution_count": null,
   "id": "7fd9d6a9",
   "metadata": {},
   "outputs": [],
   "source": [
    "# Calculate the average test scores.\n",
    "per_school_math = school_data_complete_df.groupby([\"school_name\"]).mean()[\"math_score\"]\n",
    "\n",
    "per_school_reading = school_data_complete_df.groupby([\"school_name\"]).mean()[\"reading_score\"]"
   ]
  },
  {
   "cell_type": "code",
   "execution_count": null,
   "id": "db636acc",
   "metadata": {},
   "outputs": [],
   "source": [
    "# Calculate the passing scores by creating a filtered DataFrame.\n",
    "per_school_passing_math = school_data_complete_df[(school_data_complete_df[\"math_score\"] >= 70)]\n",
    "\n",
    "per_school_passing_reading = school_data_complete_df[(school_data_complete_df[\"reading_score\"] >= 70)]"
   ]
  },
  {
   "cell_type": "code",
   "execution_count": null,
   "id": "2e269f2f",
   "metadata": {},
   "outputs": [],
   "source": [
    "# Calculate the number of students passing math and passing reading by school.\n",
    "per_school_passing_math = per_school_passing_math.groupby([\"school_name\"]).count()[\"student_name\"]\n",
    "\n",
    "per_school_passing_reading = per_school_passing_reading.groupby([\"school_name\"]).count()[\"student_name\"]"
   ]
  },
  {
   "cell_type": "code",
   "execution_count": null,
   "id": "6e2a4484",
   "metadata": {},
   "outputs": [],
   "source": [
    "# Calculate the percentage of passing math and reading scores per school.\n",
    "per_school_passing_math = per_school_passing_math / per_school_counts * 100\n",
    "\n",
    "per_school_passing_reading = per_school_passing_reading / per_school_counts * 100"
   ]
  },
  {
   "cell_type": "code",
   "execution_count": null,
   "id": "92c73ba5",
   "metadata": {},
   "outputs": [],
   "source": [
    "# Calculate the students who passed both math and reading.\n",
    "per_passing_math_reading = school_data_complete_df[(school_data_complete_df[\"math_score\"] >= 70) & (school_data_complete_df[\"reading_score\"] >= 70)]\n",
    "\n",
    "per_passing_math_reading.head()"
   ]
  },
  {
   "cell_type": "code",
   "execution_count": null,
   "id": "c5158505",
   "metadata": {},
   "outputs": [],
   "source": [
    "# Calculate the number of students who passed both math and reading.\n",
    "per_passing_math_reading = per_passing_math_reading.groupby([\"school_name\"]).count()[\"student_name\"]"
   ]
  },
  {
   "cell_type": "code",
   "execution_count": null,
   "id": "15c8a6dc",
   "metadata": {},
   "outputs": [],
   "source": [
    "# Calculate the overall passing percentage.\n",
    "per_overall_passing_percentage = per_passing_math_reading / per_school_counts * 100"
   ]
  },
  {
   "cell_type": "code",
   "execution_count": null,
   "id": "f6f75a16",
   "metadata": {},
   "outputs": [],
   "source": [
    "# Adding a list of values with keys to create a new DataFrame.\n",
    "\n",
    "per_school_summary_df = pd.DataFrame({\n",
    "             \"School Type\": per_school_types,\n",
    "             \"Total Students\": per_school_counts,\n",
    "             \"Total School Budget\": per_school_budget,\n",
    "             \"Per Student Budget\": per_school_capita,\n",
    "             \"Average Math Score\": per_school_math,\n",
    "           \"Average Reading Score\": per_school_reading,\n",
    "           \"% Passing Math\": per_school_passing_math,\n",
    "           \"% Passing Reading\": per_school_passing_reading,\n",
    "           \"% Overall Passing\": per_overall_passing_percentage})\n",
    "per_school_summary_df.head()"
   ]
  },
  {
   "cell_type": "code",
   "execution_count": null,
   "id": "2f34e9b7",
   "metadata": {},
   "outputs": [],
   "source": [
    "# Format the Total School Budget and the Per Student Budget columns.\n",
    "per_school_summary_df[\"Total School Budget\"] = per_school_summary_df[\"Total School Budget\"].map(\"${:,.2f}\".format)\n",
    "\n",
    "per_school_summary_df[\"Per Student Budget\"] = per_school_summary_df[\"Per Student Budget\"].map(\"${:,.2f}\".format)\n",
    "\n",
    "\n",
    "# Display the data frame\n",
    "per_school_summary_df.head()"
   ]
  },
  {
   "cell_type": "code",
   "execution_count": null,
   "id": "bbf62ca3",
   "metadata": {},
   "outputs": [],
   "source": [
    "# Reorder the columns in the order you want them to appear.\n",
    "new_column_order = [\"School Type\", \"Total Students\", \"Total School Budget\", \"Per Student Budget\", \"Average Math Score\", \"Average Reading Score\", \"% Passing Math\", \"% Passing Reading\", \"% Overall Passing\"]\n",
    "\n",
    "# Assign district summary df the new column order.\n",
    "per_school_summary_df = per_school_summary_df[new_column_order]\n",
    "\n",
    "per_school_summary_df.head()"
   ]
  },
  {
   "cell_type": "code",
   "execution_count": null,
   "id": "c23794be",
   "metadata": {},
   "outputs": [],
   "source": [
    "# Sort and show top five schools.\n",
    "top_schools = per_school_summary_df.sort_values([\"% Overall Passing\"], ascending=False)\n",
    "\n",
    "top_schools.head()"
   ]
  },
  {
   "cell_type": "code",
   "execution_count": null,
   "id": "69b0204d",
   "metadata": {},
   "outputs": [],
   "source": [
    "# Sort and show top five schools.\n",
    "bottom_schools = per_school_summary_df.sort_values([\"% Overall Passing\"], ascending=True)\n",
    "\n",
    "bottom_schools.head()"
   ]
  },
  {
   "cell_type": "code",
   "execution_count": null,
   "id": "6cfa7735",
   "metadata": {},
   "outputs": [],
   "source": [
    "# Create a grade level DataFrames.\n",
    "ninth_graders = school_data_complete_df[(school_data_complete_df[\"grade\"] == \"9th\")]\n",
    "\n",
    "tenth_graders = school_data_complete_df[(school_data_complete_df[\"grade\"] == \"10th\")]\n",
    "\n",
    "eleventh_graders = school_data_complete_df[(school_data_complete_df[\"grade\"] == \"11th\")]\n",
    "\n",
    "twelfth_graders = school_data_complete_df[(school_data_complete_df[\"grade\"] == \"12th\")]"
   ]
  },
  {
   "cell_type": "code",
   "execution_count": null,
   "id": "55714cf5",
   "metadata": {},
   "outputs": [],
   "source": [
    "# Group each grade level DataFrame by the school name for the average math score.\n",
    "ninth_grade_math_scores = ninth_graders.groupby([\"school_name\"]).mean()[\"math_score\"]\n",
    "\n",
    "tenth_grade_math_scores = tenth_graders.groupby([\"school_name\"]).mean()[\"math_score\"]\n",
    "\n",
    "eleventh_grade_math_scores = eleventh_graders.groupby([\"school_name\"]).mean()[\"math_score\"]\n",
    "\n",
    "twelfth_grade_math_scores = twelfth_graders.groupby([\"school_name\"]).mean()[\"math_score\"]"
   ]
  },
  {
   "cell_type": "code",
   "execution_count": null,
   "id": "4fc7a757",
   "metadata": {},
   "outputs": [],
   "source": [
    "# Group each grade level DataFrame by the school name for the average reading score.\n",
    "ninth_grade_reading_scores = ninth_graders.groupby([\"school_name\"]).mean()[\"reading_score\"]\n",
    "\n",
    "tenth_grade_reading_scores = tenth_graders.groupby([\"school_name\"]).mean()[\"reading_score\"]\n",
    "\n",
    "eleventh_grade_reading_scores = eleventh_graders.groupby([\"school_name\"]).mean()[\"reading_score\"]\n",
    "\n",
    "twelfth_grade_reading_scores = twelfth_graders.groupby([\"school_name\"]).mean()[\"reading_score\"]"
   ]
  },
  {
   "cell_type": "code",
   "execution_count": null,
   "id": "ac33ed73",
   "metadata": {},
   "outputs": [],
   "source": [
    "# Combine each grade level Series for average math scores by school into a single DataFrame.\n",
    "math_scores_by_grade = pd.DataFrame({\n",
    "               \"9th\": ninth_grade_math_scores,\n",
    "               \"10th\": tenth_grade_math_scores,\n",
    "               \"11th\": eleventh_grade_math_scores,\n",
    "               \"12th\": twelfth_grade_math_scores})\n",
    "\n",
    "math_scores_by_grade.head()"
   ]
  },
  {
   "cell_type": "code",
   "execution_count": null,
   "id": "ccd6e4fb",
   "metadata": {},
   "outputs": [],
   "source": [
    "# Combine each grade level Series for average reading scores by school into a single DataFrame.\n",
    "reading_scores_by_grade = pd.DataFrame({\n",
    "              \"9th\": ninth_grade_reading_scores,\n",
    "              \"10th\": tenth_grade_reading_scores,\n",
    "              \"11th\": eleventh_grade_reading_scores,\n",
    "              \"12th\": twelfth_grade_reading_scores})\n",
    "\n",
    "reading_scores_by_grade.head()"
   ]
  },
  {
   "cell_type": "code",
   "execution_count": null,
   "id": "e1aa7ba3",
   "metadata": {},
   "outputs": [],
   "source": [
    "# Format each grade column.\n",
    "math_scores_by_grade[\"9th\"] = math_scores_by_grade[\"9th\"].map(\"{:.1f}\".format)\n",
    "\n",
    "math_scores_by_grade[\"10th\"] = math_scores_by_grade[\"10th\"].map(\"{:.1f}\".format)\n",
    "\n",
    "math_scores_by_grade[\"11th\"] = math_scores_by_grade[\"11th\"].map(\"{:.1f}\".format)\n",
    "\n",
    "math_scores_by_grade[\"12th\"] = math_scores_by_grade[\"12th\"].map(\"{:.1f}\".format)\n",
    "\n",
    "# Make sure the columns are in the correct order.\n",
    "math_scores_by_grade = math_scores_by_grade[\n",
    "             [\"9th\", \"10th\", \"11th\", \"12th\"]]\n",
    "\n",
    "# Remove the index name.\n",
    "math_scores_by_grade.index.name = None\n",
    "# Display the DataFrame.\n",
    "math_scores_by_grade.head()"
   ]
  },
  {
   "cell_type": "code",
   "execution_count": null,
   "id": "c9b8370b",
   "metadata": {},
   "outputs": [],
   "source": [
    "# Format each grade column.\n",
    "reading_scores_by_grade[\"9th\"] = reading_scores_by_grade[\"9th\"].map(\"{:,.1f}\".format)\n",
    "\n",
    "reading_scores_by_grade[\"10th\"] = reading_scores_by_grade[\"10th\"].map(\"{:,.1f}\".format)\n",
    "\n",
    "reading_scores_by_grade[\"11th\"] = reading_scores_by_grade[\"11th\"].map(\"{:,.1f}\".format)\n",
    "\n",
    "reading_scores_by_grade[\"12th\"] = reading_scores_by_grade[\"12th\"].map(\"{:,.1f}\".format)\n",
    "\n",
    "# Make sure the columns are in the correct order.\n",
    "reading_scores_by_grade = reading_scores_by_grade[\n",
    "             [\"9th\", \"10th\", \"11th\", \"12th\"]]\n",
    "\n",
    "# Remove the index name.\n",
    "reading_scores_by_grade.index.name = None\n",
    "# Display the data frame.\n",
    "reading_scores_by_grade.head()"
   ]
  },
  {
   "cell_type": "code",
   "execution_count": null,
   "id": "3bf7cd4a",
   "metadata": {},
   "outputs": [],
   "source": [
    "# Get the descriptive statistics for the per_school_capita.\n",
    "per_school_capita.describe()"
   ]
  },
  {
   "cell_type": "code",
   "execution_count": null,
   "id": "4ed7f6ea",
   "metadata": {},
   "outputs": [],
   "source": [
    "# Cut the per_school_capita into the spending ranges.\n",
    "spending_bins = [0, 585, 615, 645, 675]\n",
    "pd.cut(per_school_capita, spending_bins)"
   ]
  },
  {
   "cell_type": "code",
   "execution_count": null,
   "id": "379b4537",
   "metadata": {},
   "outputs": [],
   "source": [
    "# Cut the per_school_capita into the spending ranges.\n",
    "spending_bins = [0, 585, 630, 645, 675]\n",
    "per_school_capita.groupby(pd.cut(per_school_capita, spending_bins)).count()"
   ]
  },
  {
   "cell_type": "code",
   "execution_count": null,
   "id": "5a80f602",
   "metadata": {},
   "outputs": [],
   "source": [
    "# Establish the spending bins and group names.\n",
    "spending_bins = [0, 585, 630, 645, 675]\n",
    "group_names = [\"<$584\", \"$585-629\", \"$630-644\", \"$645-675\"]"
   ]
  },
  {
   "cell_type": "code",
   "execution_count": null,
   "id": "1294adef",
   "metadata": {},
   "outputs": [],
   "source": [
    "# Categorize spending based on the bins.\n",
    "per_school_summary_df[\"Spending Ranges (Per Student)\"] = pd.cut(per_school_capita, spending_bins, labels=group_names)\n",
    "\n",
    "per_school_summary_df"
   ]
  },
  {
   "cell_type": "code",
   "execution_count": null,
   "id": "0be07993",
   "metadata": {},
   "outputs": [],
   "source": [
    "# Calculate averages for the desired columns.\n",
    "spending_math_scores = per_school_summary_df.groupby([\"Spending Ranges (Per Student)\"]).mean()[\"Average Math Score\"]\n",
    "\n",
    "spending_reading_scores = per_school_summary_df.groupby([\"Spending Ranges (Per Student)\"]).mean()[\"Average Reading Score\"]\n",
    "\n",
    "spending_passing_math = per_school_summary_df.groupby([\"Spending Ranges (Per Student)\"]).mean()[\"% Passing Math\"]\n",
    "\n",
    "spending_passing_reading = per_school_summary_df.groupby([\"Spending Ranges (Per Student)\"]).mean()[\"% Passing Reading\"]\n",
    "\n",
    "overall_passing_spending = per_school_summary_df.groupby([\"Spending Ranges (Per Student)\"]).mean()[\"% Overall Passing\"]"
   ]
  },
  {
   "cell_type": "code",
   "execution_count": null,
   "id": "f54380e5",
   "metadata": {},
   "outputs": [],
   "source": [
    "# Assemble into DataFrame.\n",
    "spending_summary_df = pd.DataFrame({\n",
    "          \"Average Math Score\" : spending_math_scores,\n",
    "          \"Average Reading Score\": spending_reading_scores,\n",
    "          \"% Passing Math\": spending_passing_math,\n",
    "          \"% Passing Reading\": spending_passing_reading,\n",
    "          \"% Overall Passing\": overall_passing_spending})\n",
    "\n",
    "spending_summary_df"
   ]
  },
  {
   "cell_type": "code",
   "execution_count": null,
   "id": "97e850da",
   "metadata": {},
   "outputs": [],
   "source": [
    "# Formatting\n",
    "spending_summary_df[\"Average Math Score\"] = spending_summary_df[\"Average Math Score\"].map(\"{:.1f}\".format)\n",
    "\n",
    "spending_summary_df[\"Average Reading Score\"] = spending_summary_df[\"Average Reading Score\"].map(\"{:.1f}\".format)\n",
    "\n",
    "spending_summary_df[\"% Passing Math\"] = spending_summary_df[\"% Passing Math\"].map(\"{:.0f}\".format)\n",
    "\n",
    "spending_summary_df[\"% Passing Reading\"] = spending_summary_df[\"% Passing Reading\"].map(\"{:.0f}\".format)\n",
    "\n",
    "spending_summary_df[\"% Overall Passing\"] = spending_summary_df[\"% Overall Passing\"].map(\"{:.0f}\".format)\n",
    "\n",
    "spending_summary_df\n",
    "\n"
   ]
  },
  {
   "cell_type": "code",
   "execution_count": null,
   "id": "535b27da",
   "metadata": {},
   "outputs": [],
   "source": [
    "# Establish the bins.\n",
    "size_bins = [0, 1000, 2000, 5000]\n",
    "group_names = [\"Small (<1000)\", \"Medium (1000-2000)\", \"Large (2000-5000)\"]"
   ]
  },
  {
   "cell_type": "code",
   "execution_count": null,
   "id": "813b5892",
   "metadata": {},
   "outputs": [],
   "source": [
    "# Categorize spending based on the bins.\n",
    "per_school_summary_df[\"School Size\"] = pd.cut(per_school_summary_df[\"Total Students\"], size_bins, labels=group_names)\n",
    "\n",
    "per_school_summary_df.head()"
   ]
  },
  {
   "cell_type": "code",
   "execution_count": null,
   "id": "b0e768f2",
   "metadata": {},
   "outputs": [],
   "source": [
    "# Calculate averages for the desired columns.\n",
    "size_math_scores = per_school_summary_df.groupby([\"School Size\"]).mean()[\"Average Math Score\"]\n",
    "\n",
    "size_reading_scores = per_school_summary_df.groupby([\"School Size\"]).mean()[\"Average Reading Score\"]\n",
    "\n",
    "size_passing_math = per_school_summary_df.groupby([\"School Size\"]).mean()[\"% Passing Math\"]\n",
    "\n",
    "size_passing_reading = per_school_summary_df.groupby([\"School Size\"]).mean()[\"% Passing Reading\"]\n",
    "\n",
    "size_overall_passing = per_school_summary_df.groupby([\"School Size\"]).mean()[\"% Overall Passing\"]"
   ]
  },
  {
   "cell_type": "code",
   "execution_count": null,
   "id": "3a2fc9d9",
   "metadata": {},
   "outputs": [],
   "source": [
    "# Assemble into DataFrame.\n",
    "size_summary_df = pd.DataFrame({\n",
    "          \"Average Math Score\" : size_math_scores,\n",
    "          \"Average Reading Score\": size_reading_scores,\n",
    "          \"% Passing Math\": size_passing_math,\n",
    "          \"% Passing Reading\": size_passing_reading,\n",
    "          \"% Overall Passing\": size_overall_passing})\n",
    "\n",
    "size_summary_df"
   ]
  },
  {
   "cell_type": "code",
   "execution_count": null,
   "id": "a169743b",
   "metadata": {},
   "outputs": [],
   "source": [
    "# Formatting.\n",
    "size_summary_df[\"Average Math Score\"] = size_summary_df[\"Average Math Score\"].map(\"{:.1f}\".format)\n",
    "\n",
    "size_summary_df[\"Average Reading Score\"] = size_summary_df[\"Average Reading Score\"].map(\"{:.1f}\".format)\n",
    "\n",
    "size_summary_df[\"% Passing Math\"] = size_summary_df[\"% Passing Math\"].map(\"{:.0f}\".format)\n",
    "\n",
    "size_summary_df[\"% Passing Reading\"] = size_summary_df[\"% Passing Reading\"].map(\"{:.0f}\".format)\n",
    "\n",
    "size_summary_df[\"% Overall Passing\"] = size_summary_df[\"% Overall Passing\"].map(\"{:.0f}\".format)\n",
    "\n",
    "size_summary_df"
   ]
  },
  {
   "cell_type": "code",
   "execution_count": null,
   "id": "93a8c64a",
   "metadata": {},
   "outputs": [],
   "source": [
    "# Calculate averages for the desired columns.\n",
    "type_math_scores = per_school_summary_df.groupby([\"School Type\"]).mean()[\"Average Math Score\"]\n",
    "\n",
    "type_reading_scores = per_school_summary_df.groupby([\"School Type\"]).mean()[\"Average Reading Score\"]\n",
    "\n",
    "type_passing_math = per_school_summary_df.groupby([\"School Type\"]).mean()[\"% Passing Math\"]\n",
    "\n",
    "type_passing_reading = per_school_summary_df.groupby([\"School Type\"]).mean()[\"% Passing Reading\"]\n",
    "\n",
    "type_overall_passing = per_school_summary_df.groupby([\"School Type\"]).mean()[\"% Overall Passing\"]"
   ]
  },
  {
   "cell_type": "code",
   "execution_count": null,
   "id": "52bb5936",
   "metadata": {},
   "outputs": [],
   "source": [
    "# Assemble into DataFrame.\n",
    "type_summary_df = pd.DataFrame({\n",
    "          \"Average Math Score\" : type_math_scores,\n",
    "          \"Average Reading Score\": type_reading_scores,\n",
    "          \"% Passing Math\": type_passing_math,\n",
    "          \"% Passing Reading\": type_passing_reading,\n",
    "          \"% Overall Passing\": type_overall_passing})\n",
    "\n",
    "type_summary_df"
   ]
  },
  {
   "cell_type": "code",
   "execution_count": null,
   "id": "f90071c7",
   "metadata": {},
   "outputs": [],
   "source": [
    "# Formatting\n",
    "type_summary_df[\"Average Math Score\"] = type_summary_df[\"Average Math Score\"].map(\"{:.1f}\".format)\n",
    "\n",
    "type_summary_df[\"Average Reading Score\"] = type_summary_df[\"Average Reading Score\"].map(\"{:.1f}\".format)\n",
    "\n",
    "type_summary_df[\"% Passing Math\"] = type_summary_df[\"% Passing Math\"].map(\"{:.0f}\".format)\n",
    "\n",
    "type_summary_df[\"% Passing Reading\"] = type_summary_df[\"% Passing Reading\"].map(\"{:.0f}\".format)\n",
    "\n",
    "type_summary_df[\"% Overall Passing\"] = type_summary_df[\"% Overall Passing\"].map(\"{:.0f}\".format)\n",
    "\n",
    "type_summary_df"
   ]
  },
  {
   "cell_type": "code",
   "execution_count": null,
   "id": "efbc388e",
   "metadata": {},
   "outputs": [],
   "source": []
  }
 ],
 "metadata": {
  "kernelspec": {
   "display_name": "PythonData",
   "language": "python",
   "name": "pythondata"
  },
  "language_info": {
   "codemirror_mode": {
    "name": "ipython",
    "version": 3
   },
   "file_extension": ".py",
   "mimetype": "text/x-python",
   "name": "python",
   "nbconvert_exporter": "python",
   "pygments_lexer": "ipython3",
   "version": "3.7.11"
  }
 },
 "nbformat": 4,
 "nbformat_minor": 5
}
